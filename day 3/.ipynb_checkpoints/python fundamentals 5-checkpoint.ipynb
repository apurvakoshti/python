{
 "cells": [
  {
   "cell_type": "markdown",
   "id": "5b775fac-40ca-42fe-94b2-b3140757e80b",
   "metadata": {},
   "source": [
    "Lists in Python"
   ]
  },
  {
   "cell_type": "code",
   "execution_count": 1,
   "id": "2bbfc7ad-136e-46d7-afb4-1d92b14c493b",
   "metadata": {},
   "outputs": [
    {
     "name": "stdout",
     "output_type": "stream",
     "text": [
      "140706156233544\n"
     ]
    }
   ],
   "source": [
    "# Memory Address\n",
    "a=2\n",
    "print(id(a))"
   ]
  },
  {
   "cell_type": "code",
   "execution_count": 3,
   "id": "35238e9e-1447-4d30-94e1-1f20f3e659fe",
   "metadata": {},
   "outputs": [
    {
     "name": "stdout",
     "output_type": "stream",
     "text": [
      "2298547422208\n",
      "140706156233512\n",
      "140706156233544\n",
      "140706156233576\n",
      "140706156233512\n",
      "140706156233544\n",
      "140706156233576\n"
     ]
    }
   ],
   "source": [
    "L= [1,2,3]\n",
    "\n",
    "print(id(L))\n",
    "print(id(L[0]))\n",
    "print(id(L[1]))\n",
    "print(id(L[2]))\n",
    "print(id(1))\n",
    "print(id(2))\n",
    "print(id(3))"
   ]
  },
  {
   "cell_type": "markdown",
   "id": "7f3c31b1-5c73-4abd-90bb-67abbfc66a2d",
   "metadata": {},
   "source": [
    "Characteristics of a List"
   ]
  },
  {
   "cell_type": "markdown",
   "id": "3c869ad0-030e-4bc7-a9ba-e496befe2274",
   "metadata": {},
   "source": [
    " \n",
    "#1. Ordered\n",
    "L=[1,2,3]\n",
    "L1= [3,2,1]\n",
    "print(L==L1)\n",
    "#2. Changeable/mutable\n",
    "#3. Heterogenous\n",
    "#4. can have duplicates\n",
    "L3=[1,2,3,2,1]\n",
    "print(L3)\n",
    "#5. are dynamic\n",
    "#6. can be nested\n",
    "#7. items can be accessed\n",
    "#8. can contain any kind of objects in python"
   ]
  },
  {
   "cell_type": "markdown",
   "id": "9332b8ab-d90a-4c17-ac08-cb4e6e6e9f31",
   "metadata": {},
   "source": [
    "Types of Lists"
   ]
  },
  {
   "cell_type": "code",
   "execution_count": 7,
   "id": "f81abf9c-cd1e-42e3-b76d-cfea265916ce",
   "metadata": {},
   "outputs": [
    {
     "name": "stdout",
     "output_type": "stream",
     "text": [
      "[]\n",
      "[1, 2, 3, 4]\n",
      "[1, 2, 3] [1, 2, 3]\n",
      "[[[1, 2, 3], [4, 5, 6], [7, 8, 9]]]\n",
      "[1, 2, (4+5j), 'hello', 56.7]\n",
      "['h', 'e', 'l', 'l', 'o']\n"
     ]
    }
   ],
   "source": [
    "\n",
    "#1.Empty List\n",
    "print([])\n",
    "\n",
    "#2. 1D list\n",
    "print([1,2,3,4])\n",
    "\n",
    "#3. 2D List\n",
    "print([1,2,3],[1,2,3])  # heterogenous list- [1,2,3,[4,5]]\n",
    "\n",
    "#4. 3D List\n",
    "print([[[1,2,3], [4,5,6], [7,8,9]]])\n",
    "\n",
    "#5. Heterogenous List\n",
    "print([1,2, 4+5j, 'hello', 56.7])\n",
    "\n",
    "#6. Type Conversion\n",
    "print(list('hello'))\n",
    "\n",
    "\n"
   ]
  },
  {
   "cell_type": "markdown",
   "id": "a486ddb0-c795-4f93-9fb1-ce29557ff2b9",
   "metadata": {},
   "source": [
    "Accessing items from a list"
   ]
  },
  {
   "cell_type": "code",
   "execution_count": 17,
   "id": "3dce0b76-8e1d-4314-8ad1-5c59164f6316",
   "metadata": {},
   "outputs": [
    {
     "name": "stdout",
     "output_type": "stream",
     "text": [
      "4\n",
      "1\n",
      "4\n",
      "4\n",
      "4\n",
      "5\n"
     ]
    }
   ],
   "source": [
    "# Indexing\n",
    "\n",
    "#1. Positive Indexing\n",
    "L1=[1,2,3,4]\n",
    "print(L1[3])\n",
    "# print(L1[30])\n",
    "\n",
    "#2. Negative Indexing\n",
    "print(L1[-4])\n",
    "\n",
    "L2=[1,2,3,[4,5]]\n",
    "print(L2[-1][-2])\n",
    "print(L2[3][0])\n",
    "\n",
    "L3=[[[1,2,3], [4,5,6], [7,8,9]]]\n",
    "print(L3[0][1][0])\n",
    "\n",
    "L4=[[[1,2],[3,4]],[[5,6],[7,8]]]\n",
    "print(L4[1][0][0])"
   ]
  },
  {
   "cell_type": "code",
   "execution_count": 20,
   "id": "3fab4112-4fac-4224-8684-242dc28271db",
   "metadata": {},
   "outputs": [
    {
     "name": "stdout",
     "output_type": "stream",
     "text": [
      "[1, 2, 3]\n",
      "[4, 5, 6]\n",
      "[1, 3, 5]\n",
      "[2, 4]\n",
      "[6, 5, 4, 3, 2, 1]\n"
     ]
    }
   ],
   "source": [
    "# Slicing\n",
    "\n",
    "L=[1,2,3,4,5,6]\n",
    "print(L[0:3])\n",
    "print(L[-3:])\n",
    "print(L[0::2])\n",
    "print(L[-5:-2:2])\n",
    "print(L[::-1])"
   ]
  },
  {
   "cell_type": "markdown",
   "id": "eb703298-4324-495f-91df-956efdc23e91",
   "metadata": {},
   "source": [
    "Adding Items to a List"
   ]
  },
  {
   "cell_type": "code",
   "execution_count": 21,
   "id": "443fd501-aa54-4d7d-ad27-817dfdd283fd",
   "metadata": {},
   "outputs": [
    {
     "name": "stdout",
     "output_type": "stream",
     "text": [
      "[1, 2, 3, 4, 5, 6]\n",
      "[1, 2, 3, 4, 5, 6, 7, 8]\n",
      "[1, 100, 2, 3, 4, 5]\n"
     ]
    }
   ],
   "source": [
    "# Append\n",
    "L1= [1,2,3,4,5]\n",
    "L1.append(6)\n",
    "print(L1)\n",
    "\n",
    "#Extend\n",
    "L2=[1,2,3,4,5]\n",
    "L2.extend([6,7,8])\n",
    "print(L2)\n",
    "\n",
    "#Insert\n",
    "L3=[1,2,3,4,5]\n",
    "L3.insert(1,100)\n",
    "print(L3)"
   ]
  },
  {
   "cell_type": "code",
   "execution_count": 22,
   "id": "abbdc67d-8008-4167-a931-d8b366186a16",
   "metadata": {},
   "outputs": [
    {
     "name": "stdout",
     "output_type": "stream",
     "text": [
      "[1, 2, 3, 4, 5, [6, 7, 8]]\n",
      "[1, 2, 3, 4, 5, 'd', 'e', 'l', 'h', 'i']\n"
     ]
    }
   ],
   "source": [
    "# Special Cases\n",
    "L4=[1,2,3,4,5]\n",
    "L4.append([6,7,8])\n",
    "print(L4)\n",
    "\n",
    "L5=[1,2,3,4,5]\n",
    "L5.extend('delhi')\n",
    "print(L5)"
   ]
  },
  {
   "cell_type": "markdown",
   "id": "cc570a14-a04f-478b-8abc-8ace58fa2494",
   "metadata": {},
   "source": [
    "Editing items in a List"
   ]
  },
  {
   "cell_type": "code",
   "execution_count": null,
   "id": "3c62e3c9-8826-4d2d-8486-a33767b1b324",
   "metadata": {},
   "outputs": [],
   "source": [
    "s='hello' # this will throw an error\n",
    "s[0]='x'\n",
    "print(s)"
   ]
  },
  {
   "cell_type": "code",
   "execution_count": 23,
   "id": "942bfea3-b959-4d41-af99-889223974095",
   "metadata": {},
   "outputs": [
    {
     "name": "stdout",
     "output_type": "stream",
     "text": [
      "[1, 2, 3, 4, 500]\n"
     ]
    }
   ],
   "source": [
    "# editing with indexing\n",
    "L=[1,2,3,4,5]\n",
    "L[-1]=500\n",
    "print(L)"
   ]
  },
  {
   "cell_type": "code",
   "execution_count": 24,
   "id": "bbb369f9-9ca3-4106-8986-c47b78852146",
   "metadata": {},
   "outputs": [
    {
     "name": "stdout",
     "output_type": "stream",
     "text": [
      "[1, 200, 300, 400, 500]\n"
     ]
    }
   ],
   "source": [
    "#editing with slicing\n",
    "L[1:4]= [200,300,400]\n",
    "print(L)"
   ]
  },
  {
   "cell_type": "markdown",
   "id": "f2f8d22e-65c1-4064-8983-c3160fefd590",
   "metadata": {},
   "source": [
    "Deleting items from a list"
   ]
  },
  {
   "cell_type": "code",
   "execution_count": null,
   "id": "5dd927e7-5e04-4d72-b900-6f59f9898f41",
   "metadata": {},
   "outputs": [],
   "source": [
    "# del keyword\n",
    "L= [1,2,3,4,5]\n",
    "print(L)\n",
    "del L\n",
    "print(L) #this will throw the error, bc the list is deleted"
   ]
  },
  {
   "cell_type": "code",
   "execution_count": 1,
   "id": "18fa22be-b02e-4e8b-9989-07055020eba2",
   "metadata": {},
   "outputs": [
    {
     "name": "stdout",
     "output_type": "stream",
     "text": [
      "[1, 2, 3, 4]\n",
      "[1, 4]\n"
     ]
    }
   ],
   "source": [
    "#Index Deleting\n",
    "L= [1,2,3,4,5]\n",
    "del L[-1]\n",
    "print(L)\n",
    "\n",
    "#Slicing\n",
    "del L[1:3]\n",
    "print(L)"
   ]
  },
  {
   "cell_type": "code",
   "execution_count": 2,
   "id": "f6be800c-dee4-4cdb-aab9-be51392f390d",
   "metadata": {},
   "outputs": [
    {
     "name": "stdout",
     "output_type": "stream",
     "text": [
      "[1, 2, 3, 4]\n"
     ]
    }
   ],
   "source": [
    "# remove\n",
    "L=[1,2,3,4,5]\n",
    "L.remove(5)\n",
    "print(L)"
   ]
  },
  {
   "cell_type": "code",
   "execution_count": 3,
   "id": "2ebeeaeb-aeb0-4238-8675-18622b0bebff",
   "metadata": {},
   "outputs": [
    {
     "name": "stdout",
     "output_type": "stream",
     "text": [
      "[2, 3, 4, 5]\n"
     ]
    }
   ],
   "source": [
    "# pop\n",
    "L=[1,2,3,4,5]\n",
    "L.pop(0)\n",
    "print(L)"
   ]
  },
  {
   "cell_type": "code",
   "execution_count": 4,
   "id": "b1dc01eb-b5ef-4e41-a095-ff8ec2648f47",
   "metadata": {},
   "outputs": [
    {
     "name": "stdout",
     "output_type": "stream",
     "text": [
      "[]\n"
     ]
    }
   ],
   "source": [
    "# clear\n",
    "L= [1,2,3,4,5]\n",
    "L.clear()\n",
    "print(L)"
   ]
  },
  {
   "cell_type": "markdown",
   "id": "845bb13c-ac20-4eb5-85cd-e998b07df0fd",
   "metadata": {},
   "source": [
    "Operations on Lists"
   ]
  },
  {
   "cell_type": "code",
   "execution_count": 5,
   "id": "8b87a76a-1117-47b5-bc22-1704c4354aec",
   "metadata": {},
   "outputs": [
    {
     "name": "stdout",
     "output_type": "stream",
     "text": [
      "[1, 2, 3, 4, 5, 6, 7, 8]\n",
      "[1, 2, 3, 4, 1, 2, 3, 4, 1, 2, 3, 4]\n"
     ]
    }
   ],
   "source": [
    "#Arithmetic Operations\n",
    "L1=[1,2,3,4]\n",
    "L2=[5,6,7,8]\n",
    "print(L1+L2)\n",
    "print(L1*3)"
   ]
  },
  {
   "cell_type": "code",
   "execution_count": 6,
   "id": "37f096f2-a500-454b-a4b6-7f3794601201",
   "metadata": {},
   "outputs": [
    {
     "name": "stdout",
     "output_type": "stream",
     "text": [
      "True\n",
      "False\n",
      "True\n"
     ]
    }
   ],
   "source": [
    "#Membership Operations\n",
    "\n",
    "L1=[1,2,3,4,5]\n",
    "L2=[1,2,3,4,[5,6]]\n",
    "print(5 in L1)\n",
    "print(5 in L2)\n",
    "print([5,6] in L2)"
   ]
  },
  {
   "cell_type": "code",
   "execution_count": 7,
   "id": "b8dd2493-413e-4cad-a691-239fdab7c77e",
   "metadata": {},
   "outputs": [
    {
     "name": "stdout",
     "output_type": "stream",
     "text": [
      "1\n",
      "2\n",
      "3\n",
      "4\n",
      "[5, 6]\n"
     ]
    }
   ],
   "source": [
    "#Loops\n",
    "L1=[1,2,3,4,5]\n",
    "L2=[1,2,3,4,[5,6]]\n",
    "for i in L2:\n",
    "    print(i)"
   ]
  },
  {
   "cell_type": "markdown",
   "id": "f2ac7684-fc9a-4712-8c05-6116b7d02353",
   "metadata": {},
   "source": [
    "Functions in Lists"
   ]
  },
  {
   "cell_type": "code",
   "execution_count": 9,
   "id": "042ed1d7-2602-4055-9c42-a30425bea722",
   "metadata": {},
   "outputs": [
    {
     "name": "stdout",
     "output_type": "stream",
     "text": [
      "5\n",
      "7\n",
      "0\n",
      "[0, 1, 2, 5, 7]\n",
      "[7, 5, 2, 1, 0]\n"
     ]
    }
   ],
   "source": [
    "L= [2,1,5,7,0]\n",
    "print(len(L))\n",
    "print(max(L))\n",
    "print(min(L))\n",
    "print(sorted(L))\n",
    "print(sorted(L, reverse=True))"
   ]
  },
  {
   "cell_type": "code",
   "execution_count": 11,
   "id": "14dfe37d-26c4-47ed-b45f-3a7fdd915f99",
   "metadata": {},
   "outputs": [
    {
     "data": {
      "text/plain": [
       "0"
      ]
     },
     "execution_count": 11,
     "metadata": {},
     "output_type": "execute_result"
    }
   ],
   "source": [
    "L=[2,1,3,4,1,5]\n",
    "L.count(15)\n"
   ]
  },
  {
   "cell_type": "code",
   "execution_count": 12,
   "id": "049ddb8f-441e-47e2-8925-d1beef4048cd",
   "metadata": {},
   "outputs": [
    {
     "data": {
      "text/plain": [
       "1"
      ]
     },
     "execution_count": 12,
     "metadata": {},
     "output_type": "execute_result"
    }
   ],
   "source": [
    "L.index(1)"
   ]
  },
  {
   "cell_type": "code",
   "execution_count": 13,
   "id": "898404f6-9abe-434f-a851-00720bb973b3",
   "metadata": {},
   "outputs": [
    {
     "name": "stdout",
     "output_type": "stream",
     "text": [
      "[0, 1, 5, 1, 2]\n"
     ]
    }
   ],
   "source": [
    "L= [2,1,5,1,0]\n",
    "L.reverse() # permanently reverse the list\n",
    "print(L)"
   ]
  },
  {
   "cell_type": "code",
   "execution_count": 14,
   "id": "b12dc28d-a3b2-44ee-b204-d037cbfa456a",
   "metadata": {},
   "outputs": [
    {
     "name": "stdout",
     "output_type": "stream",
     "text": [
      "[2, 1, 5, 7, 0]\n",
      "[0, 1, 2, 5, 7]\n",
      "[2, 1, 5, 7, 0]\n",
      "[0, 1, 2, 5, 7]\n"
     ]
    }
   ],
   "source": [
    "#sort- permanently sort\n",
    "#sorted-temporary sort\n",
    "\n",
    "L=[2,1,5,7,0]\n",
    "print(L)\n",
    "print(sorted(L))\n",
    "print(L)\n",
    "L.sort()\n",
    "print(L)"
   ]
  },
  {
   "cell_type": "code",
   "execution_count": 15,
   "id": "563825a6-39f2-45a0-9df9-7385093b5657",
   "metadata": {},
   "outputs": [
    {
     "name": "stdout",
     "output_type": "stream",
     "text": [
      "1886244515584\n",
      "[2, 1, 5, 7, 0]\n",
      "1886244841856\n"
     ]
    }
   ],
   "source": [
    "# copy\n",
    "L=[2,1,5,7,0]\n",
    "print(id(L))\n",
    "L1= L.copy()\n",
    "print(L1)\n",
    "print(id(L1))"
   ]
  },
  {
   "cell_type": "markdown",
   "id": "73907098-98a5-4e75-9d4c-b8468b9cb5ef",
   "metadata": {},
   "source": [
    "List Comprehension"
   ]
  },
  {
   "cell_type": "code",
   "execution_count": 19,
   "id": "228c304c-c07f-43ea-894e-aafcb83137fa",
   "metadata": {},
   "outputs": [
    {
     "name": "stdout",
     "output_type": "stream",
     "text": [
      "[1, 2, 3, 4, 5, 6, 7, 8, 9, 10]\n",
      "[1, 2, 3, 4, 5, 6, 7, 8, 9, 10]\n"
     ]
    }
   ],
   "source": [
    "# Add 1 to 10 numbers to a list\n",
    "L=[]\n",
    "for i in range(1,11):\n",
    "    L.append(i)\n",
    "print(L)\n",
    "\n",
    "L=[ i for i in range(1,11)]\n",
    "print(L)"
   ]
  },
  {
   "cell_type": "code",
   "execution_count": 21,
   "id": "ff3b1533-78cd-4ed2-8004-65bebec118fb",
   "metadata": {},
   "outputs": [
    {
     "name": "stdout",
     "output_type": "stream",
     "text": [
      "[-6, -9, -12]\n"
     ]
    }
   ],
   "source": [
    "# Scalar multiplication on a vector\n",
    "v=[2,3,4]\n",
    "s=-3\n",
    "list= [s*i for i in v]\n",
    "print(list)"
   ]
  },
  {
   "cell_type": "code",
   "execution_count": 22,
   "id": "7ed9ad29-e23a-4470-9a85-2f6109e867d7",
   "metadata": {},
   "outputs": [
    {
     "name": "stdout",
     "output_type": "stream",
     "text": [
      "[1, 4, 9, 16, 25, 36, 49, 64, 81, 100]\n"
     ]
    }
   ],
   "source": [
    "# Add Squares\n",
    "l=[1,2,3,4,5]\n",
    "list= [i**2 for i in L]\n",
    "print(list)"
   ]
  },
  {
   "cell_type": "code",
   "execution_count": 23,
   "id": "3274c615-1e65-42a5-ba35-33e191ffc032",
   "metadata": {},
   "outputs": [
    {
     "name": "stdout",
     "output_type": "stream",
     "text": [
      "[5, 10, 15, 20, 25, 30, 35, 40, 45, 50]\n"
     ]
    }
   ],
   "source": [
    "# Print all numbers divisible by 5 in the range of 1 to 50\n",
    "\n",
    "list=[i for i in range (1,51) if i%5==0]\n",
    "print(list)"
   ]
  },
  {
   "cell_type": "code",
   "execution_count": 24,
   "id": "8caf073c-583a-4626-9044-95e804e6ad13",
   "metadata": {},
   "outputs": [
    {
     "name": "stdout",
     "output_type": "stream",
     "text": [
      "['python', 'php']\n"
     ]
    }
   ],
   "source": [
    "# Find langauges which start wuth letter p\n",
    "\n",
    "languages= ['java', 'python', 'php','c','javascript']\n",
    "list= [language for language in languages if language.startswith('p')]\n",
    "print(list)"
   ]
  },
  {
   "cell_type": "code",
   "execution_count": 25,
   "id": "91c47c52-594f-44da-a197-18b18cadd0c4",
   "metadata": {},
   "outputs": [
    {
     "name": "stdout",
     "output_type": "stream",
     "text": [
      "['apple']\n"
     ]
    }
   ],
   "source": [
    "# Nested if with list comprehension\n",
    "\n",
    "basket =['apple', 'guava', 'cheery', 'banana']\n",
    "my_fruits = ['apple', 'kiwi', 'graphes', 'banana']\n",
    "\n",
    "list= [fruit for fruit in my_fruits if fruit in basket if fruit.startswith('a')]\n",
    "print(list)"
   ]
  },
  {
   "cell_type": "code",
   "execution_count": 26,
   "id": "11521380-438e-412c-9cba-c44f2c4e20e3",
   "metadata": {},
   "outputs": [
    {
     "name": "stdout",
     "output_type": "stream",
     "text": [
      "[[1, 2, 3], [2, 4, 6], [3, 6, 9]]\n"
     ]
    }
   ],
   "source": [
    "# Print a (3,3) matrix using List Comprehension - nested list comprehension\n",
    "\n",
    "list=[[i*j for i in range(1,4)] for j in range(1,4)]\n",
    "print(list)"
   ]
  },
  {
   "cell_type": "code",
   "execution_count": 28,
   "id": "bf403c96-b542-40b6-be26-73f177ec5359",
   "metadata": {},
   "outputs": [
    {
     "name": "stdout",
     "output_type": "stream",
     "text": [
      "[6, 7, 8, 9, 12, 14, 16, 18, 18, 21, 24, 27, 24, 28, 32, 36, 30, 35, 40, 45]\n"
     ]
    }
   ],
   "source": [
    "# Cartesian product\n",
    "L1= [1,2,3,4,5]\n",
    "L2= [6,7,8,9]\n",
    "list= [i*j for i in L1 for j in L2]\n",
    "print(list)"
   ]
  },
  {
   "cell_type": "markdown",
   "id": "59a8d67b-6fc1-4093-8d93-f425d48c4aa6",
   "metadata": {},
   "source": [
    "Traversing the Lists"
   ]
  },
  {
   "cell_type": "code",
   "execution_count": 29,
   "id": "87ec2ef7-51a2-42f3-8d80-297160dc4f13",
   "metadata": {},
   "outputs": [
    {
     "name": "stdout",
     "output_type": "stream",
     "text": [
      "1\n",
      "2\n",
      "3\n",
      "4\n"
     ]
    }
   ],
   "source": [
    "# itemwise\n",
    "L=[1,2,3,4]\n",
    "for i in L:\n",
    "    print(i)"
   ]
  },
  {
   "cell_type": "code",
   "execution_count": 30,
   "id": "732b0677-2753-4a01-b688-8d94d1458d54",
   "metadata": {},
   "outputs": [
    {
     "name": "stdout",
     "output_type": "stream",
     "text": [
      "0\n",
      "1\n",
      "2\n",
      "3\n"
     ]
    }
   ],
   "source": [
    "# indexwise\n",
    "L=[1,2,3,4]\n",
    "for i in range(0, len(L)):\n",
    "    print(i)"
   ]
  },
  {
   "cell_type": "code",
   "execution_count": 31,
   "id": "e56e3671-55d6-436e-8277-227d36fc06e1",
   "metadata": {},
   "outputs": [
    {
     "name": "stdout",
     "output_type": "stream",
     "text": [
      "1\n",
      "2\n",
      "3\n",
      "4\n"
     ]
    }
   ],
   "source": [
    "L=[1,2,3,4]\n",
    "for i in range(0, len(L)):\n",
    "    print(L[i])"
   ]
  },
  {
   "cell_type": "markdown",
   "id": "2031be54-e4c0-4724-bfdc-7304623fb90d",
   "metadata": {},
   "source": [
    "Zip"
   ]
  },
  {
   "cell_type": "code",
   "execution_count": 36,
   "id": "1ae9f570-b346-4b4e-a05a-133a2ec42a73",
   "metadata": {},
   "outputs": [
    {
     "name": "stdout",
     "output_type": "stream",
     "text": [
      "[0, 0, 0, 0]\n"
     ]
    }
   ],
   "source": [
    "#Program to add items of 2 lists index wise\n",
    "L1= [1,2,3,4]\n",
    "L2=[-1,-2,-3,-4]\n",
    "\n",
    "list= [i+j for i,j in zip(L1,L2)]\n",
    "print(list)"
   ]
  },
  {
   "cell_type": "markdown",
   "id": "b6bd4fcb-633a-42ba-bb93-0affb43be360",
   "metadata": {},
   "source": [
    "Can contain any kind of objects in python"
   ]
  },
  {
   "cell_type": "code",
   "execution_count": 38,
   "id": "f5d7ab06-6b29-4d45-a504-eda269f667de",
   "metadata": {},
   "outputs": [
    {
     "name": "stdout",
     "output_type": "stream",
     "text": [
      "[1, 2, <built-in function print>, <class 'type'>, <bound method Kernel.raw_input of <ipykernel.ipkernel.IPythonKernel object at 0x000001B72CEF29D0>>]\n"
     ]
    }
   ],
   "source": [
    "L= [1,2, print, type, input]\n",
    "print(L)"
   ]
  },
  {
   "cell_type": "code",
   "execution_count": null,
   "id": "b2843c02-f839-4aa8-a218-65e0febc77af",
   "metadata": {},
   "outputs": [],
   "source": []
  }
 ],
 "metadata": {
  "kernelspec": {
   "display_name": "Python 3 (ipykernel)",
   "language": "python",
   "name": "python3"
  },
  "language_info": {
   "codemirror_mode": {
    "name": "ipython",
    "version": 3
   },
   "file_extension": ".py",
   "mimetype": "text/x-python",
   "name": "python",
   "nbconvert_exporter": "python",
   "pygments_lexer": "ipython3",
   "version": "3.11.7"
  }
 },
 "nbformat": 4,
 "nbformat_minor": 5
}
