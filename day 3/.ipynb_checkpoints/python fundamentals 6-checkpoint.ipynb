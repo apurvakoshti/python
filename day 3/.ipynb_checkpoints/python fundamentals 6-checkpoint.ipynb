{
 "cells": [
  {
   "cell_type": "markdown",
   "id": "9cb6dfef-3bba-4185-842b-676e66334b93",
   "metadata": {},
   "source": [
    "Tuples in Python"
   ]
  },
  {
   "cell_type": "markdown",
   "id": "0100635b-ffae-4fed-9ec5-25a5b74939cf",
   "metadata": {},
   "source": [
    "1. Creating a tuple"
   ]
  },
  {
   "cell_type": "code",
   "execution_count": 1,
   "id": "663d4e73-03f2-4fa0-92b4-0a7be5abf59d",
   "metadata": {},
   "outputs": [
    {
     "name": "stdout",
     "output_type": "stream",
     "text": [
      "()\n"
     ]
    }
   ],
   "source": [
    "#empty tuple\n",
    "t1=()\n",
    "print(t1)"
   ]
  },
  {
   "cell_type": "code",
   "execution_count": 3,
   "id": "ce1fee47-1f2c-42ef-bd06-4ad52f717d9d",
   "metadata": {},
   "outputs": [
    {
     "name": "stdout",
     "output_type": "stream",
     "text": [
      "2\n",
      "<class 'int'>\n"
     ]
    }
   ],
   "source": [
    "#creating a tuple with single element\n",
    "t2=(2)\n",
    "print(t2) # this will not throw an error, but its datatype is different and syntax for tuple for single element is different\n",
    "print(type(t2))"
   ]
  },
  {
   "cell_type": "code",
   "execution_count": 4,
   "id": "601e9a5a-d954-47b5-9109-f4b00793dc04",
   "metadata": {},
   "outputs": [
    {
     "name": "stdout",
     "output_type": "stream",
     "text": [
      "(2,)\n",
      "<class 'tuple'>\n"
     ]
    }
   ],
   "source": [
    "t2=(2,)\n",
    "print(t2)\n",
    "print(type(t2))"
   ]
  },
  {
   "cell_type": "code",
   "execution_count": 5,
   "id": "b6a2d9e8-3b64-4799-83c4-56c50501eb02",
   "metadata": {},
   "outputs": [
    {
     "name": "stdout",
     "output_type": "stream",
     "text": [
      "(1, 2, 3, 4)\n",
      "(1, 2.5, True, [1, 2, 3])\n",
      "(1, 2, 3, (4, 5))\n",
      "('h', 'e', 'l', 'l', 'o')\n"
     ]
    }
   ],
   "source": [
    "#homo tuple\n",
    "t3= (1,2,3,4)\n",
    "print(t3)\n",
    "\n",
    "#hetero tuple\n",
    "t4=(1,2.5, True, [1,2,3])\n",
    "print(t4)\n",
    "\n",
    "#2d tuple\n",
    "t5=(1,2,3,(4,5))\n",
    "print(t5)\n",
    "\n",
    "#using type conversion\n",
    "t6=tuple('hello')\n",
    "print(t6)"
   ]
  },
  {
   "cell_type": "markdown",
   "id": "c96501f9-0610-461b-a898-0234cfb3738d",
   "metadata": {},
   "source": [
    "2. Accessing Items"
   ]
  },
  {
   "cell_type": "code",
   "execution_count": 6,
   "id": "98080f6a-9b4b-46d7-92d1-71df5d2dbc55",
   "metadata": {},
   "outputs": [
    {
     "name": "stdout",
     "output_type": "stream",
     "text": [
      "(1, 2, 3, 4)\n",
      "1\n",
      "4\n"
     ]
    }
   ],
   "source": [
    "#Indexing\n",
    "print(t3)\n",
    "print(t3[0])\n",
    "print(t3[-1])"
   ]
  },
  {
   "cell_type": "code",
   "execution_count": 9,
   "id": "1711b00f-3db6-4e59-a7f5-55146be2eb70",
   "metadata": {},
   "outputs": [
    {
     "name": "stdout",
     "output_type": "stream",
     "text": [
      "(1, 3)\n",
      "(2, 3)\n",
      "(4, 3, 2, 1)\n",
      "4\n"
     ]
    }
   ],
   "source": [
    "#Slicing\n",
    "print(t3[0:4:2])\n",
    "print(t3[-3:-1])\n",
    "print(t3[::-1])\n",
    "print(t5[-1][0])"
   ]
  },
  {
   "cell_type": "markdown",
   "id": "a2be5558-b2ea-49dc-add7-a92bc897f0dd",
   "metadata": {},
   "source": [
    "3. Editing elements"
   ]
  },
  {
   "cell_type": "code",
   "execution_count": 10,
   "id": "d8766ebf-a30b-4737-a120-9d282be902e2",
   "metadata": {},
   "outputs": [
    {
     "name": "stdout",
     "output_type": "stream",
     "text": [
      "(1, 2, 3, 4)\n"
     ]
    },
    {
     "ename": "TypeError",
     "evalue": "'tuple' object does not support item assignment",
     "output_type": "error",
     "traceback": [
      "\u001b[1;31m---------------------------------------------------------------------------\u001b[0m",
      "\u001b[1;31mTypeError\u001b[0m                                 Traceback (most recent call last)",
      "Cell \u001b[1;32mIn[10], line 2\u001b[0m\n\u001b[0;32m      1\u001b[0m \u001b[38;5;28mprint\u001b[39m(t3)\n\u001b[1;32m----> 2\u001b[0m \u001b[43mt3\u001b[49m\u001b[43m[\u001b[49m\u001b[38;5;241;43m0\u001b[39;49m\u001b[43m]\u001b[49m\u001b[38;5;241m=\u001b[39m\u001b[38;5;241m100\u001b[39m  \u001b[38;5;66;03m#immutable\u001b[39;00m\n",
      "\u001b[1;31mTypeError\u001b[0m: 'tuple' object does not support item assignment"
     ]
    }
   ],
   "source": [
    "print(t3)\n",
    "t3[0]=100  #immutable"
   ]
  },
  {
   "cell_type": "markdown",
   "id": "543fa069-5fac-4d73-8e27-6057b259f76e",
   "metadata": {},
   "source": [
    "4. Adding elements"
   ]
  },
  {
   "cell_type": "code",
   "execution_count": null,
   "id": "029b4904-f474-42ce-99eb-7ce07ec07c62",
   "metadata": {},
   "outputs": [],
   "source": [
    "print(t3)  #not possible for adding too"
   ]
  },
  {
   "cell_type": "markdown",
   "id": "74440178-c771-4d94-b21b-fc4cab412767",
   "metadata": {},
   "source": [
    "5. Deleting"
   ]
  },
  {
   "cell_type": "code",
   "execution_count": 11,
   "id": "c923e67d-c4e3-468f-996f-43be696b99d9",
   "metadata": {},
   "outputs": [
    {
     "name": "stdout",
     "output_type": "stream",
     "text": [
      "(1, 2, 3, 4)\n"
     ]
    }
   ],
   "source": [
    "#delete can work completely on a single tuple but not partially\n",
    "print(t3)\n",
    "del t3\n",
    "# print(t3)"
   ]
  },
  {
   "cell_type": "markdown",
   "id": "952525fe-ee67-4255-937f-9e66c7047573",
   "metadata": {},
   "source": [
    "6. Operations on tuples (+, *, in)"
   ]
  },
  {
   "cell_type": "code",
   "execution_count": 12,
   "id": "c939f0c4-2abb-45b0-8d03-6797162a93b2",
   "metadata": {},
   "outputs": [
    {
     "name": "stdout",
     "output_type": "stream",
     "text": [
      "(1, 2, 3, 4, 5, 6, 7, 8)\n",
      "(1, 2, 3, 4, 1, 2, 3, 4, 1, 2, 3, 4)\n"
     ]
    }
   ],
   "source": [
    "#Addition and Multiplication Operations\n",
    "t1=(1,2,3,4)\n",
    "t2=(5,6,7,8)\n",
    "print(t1+t2)\n",
    "print(t1*3)"
   ]
  },
  {
   "cell_type": "code",
   "execution_count": 13,
   "id": "477e54d4-cd5a-4a33-bb4a-24633218718d",
   "metadata": {},
   "outputs": [
    {
     "name": "stdout",
     "output_type": "stream",
     "text": [
      "True\n"
     ]
    }
   ],
   "source": [
    "# Membership Operations\n",
    "print(1 in t1)"
   ]
  },
  {
   "cell_type": "code",
   "execution_count": 14,
   "id": "dbc8925c-99e6-4407-bc2a-f46880077f3f",
   "metadata": {},
   "outputs": [
    {
     "name": "stdout",
     "output_type": "stream",
     "text": [
      "1\n",
      "2\n",
      "3\n",
      "4\n"
     ]
    }
   ],
   "source": [
    "#Loops\n",
    "for i in t1:\n",
    "    print(i)"
   ]
  },
  {
   "cell_type": "markdown",
   "id": "7ef75ea9-7df5-4085-834e-e62411f89b52",
   "metadata": {},
   "source": [
    "7. Functions in tuples"
   ]
  },
  {
   "cell_type": "code",
   "execution_count": 15,
   "id": "5fba0892-023a-47c5-8ab0-3c1e3b32e460",
   "metadata": {},
   "outputs": [
    {
     "name": "stdout",
     "output_type": "stream",
     "text": [
      "4\n",
      "4\n",
      "1\n",
      "[1, 2, 3, 4]\n",
      "10\n"
     ]
    }
   ],
   "source": [
    "t= (1,2,3,4)\n",
    "print(len(t))\n",
    "print(max(t))\n",
    "print(min(t))\n",
    "print(sorted(t))\n",
    "print(sum(t))"
   ]
  },
  {
   "cell_type": "code",
   "execution_count": 16,
   "id": "08f952e7-97e9-47a6-a1c1-eb4f5a505d20",
   "metadata": {},
   "outputs": [
    {
     "name": "stdout",
     "output_type": "stream",
     "text": [
      "1\n",
      "4\n"
     ]
    }
   ],
   "source": [
    "t= (1,2,3,4,5)\n",
    "print(t.count(5))\n",
    "print(t.index(5))"
   ]
  },
  {
   "cell_type": "code",
   "execution_count": 22,
   "id": "b3b996ca-2cbd-45b8-8ba2-1d3920c041db",
   "metadata": {},
   "outputs": [
    {
     "name": "stdout",
     "output_type": "stream",
     "text": [
      "List time 12.671893119812012\n",
      "Tuple time 17.799916744232178\n"
     ]
    }
   ],
   "source": [
    "#Speed/ time code for illustration\n",
    "import time\n",
    "\n",
    "L=list(range(100000000))\n",
    "T=tuple(range(100000000))\n",
    "\n",
    "start= time.time()\n",
    "for i in L:\n",
    "    i*5\n",
    "print('List time', time.time()-start)\n",
    "\n",
    "start= time.time()\n",
    "for i in T:\n",
    "    i*5\n",
    "print('Tuple time', time.time()- start)\n"
   ]
  },
  {
   "cell_type": "code",
   "execution_count": 25,
   "id": "cac6c164-438f-4df3-9b09-f2b7749a2d69",
   "metadata": {},
   "outputs": [
    {
     "name": "stdout",
     "output_type": "stream",
     "text": [
      "List time : 0.33069939999950293\n",
      "Tuple time: 0.26751770000009856\n"
     ]
    }
   ],
   "source": [
    "#Correct Code\n",
    "import timeit\n",
    "\n",
    "# smaller size for fair comparison\n",
    "N = 10_000_00  # 1 million\n",
    "\n",
    "L = list(range(N))\n",
    "T = tuple(range(N))\n",
    "\n",
    "list_time = timeit.timeit(\"for i in L: i*5\", globals=globals(), number=10)\n",
    "tuple_time = timeit.timeit(\"for i in T: i*5\", globals=globals(), number=10)\n",
    "\n",
    "print(\"List time :\", list_time)\n",
    "print(\"Tuple time:\", tuple_time)\n"
   ]
  },
  {
   "cell_type": "code",
   "execution_count": 24,
   "id": "46fa8ec3-2edb-4a8b-a06e-94a2957cded0",
   "metadata": {},
   "outputs": [
    {
     "name": "stdout",
     "output_type": "stream",
     "text": [
      "List Size 8056\n",
      "Tuple Size 8040\n"
     ]
    }
   ],
   "source": [
    "#Space wise code for illustration\n",
    "\n",
    "import sys\n",
    "L=list(range(1000))\n",
    "T=tuple(range(1000))\n",
    "\n",
    "print('List Size', sys.getsizeof(L))\n",
    "print('Tuple Size', sys.getsizeof(T))"
   ]
  },
  {
   "cell_type": "code",
   "execution_count": 20,
   "id": "6d4823eb-cbe7-42dc-a7cd-d368d3ae6880",
   "metadata": {},
   "outputs": [
    {
     "name": "stdout",
     "output_type": "stream",
     "text": [
      "[1, 2, 3, 4]\n",
      "[1, 2, 3, 4]\n"
     ]
    }
   ],
   "source": [
    "#Error Prone in List\n",
    "a=[1,2,3]\n",
    "b=a\n",
    "a.append(4)\n",
    "print(a)\n",
    "print(b)"
   ]
  },
  {
   "cell_type": "code",
   "execution_count": 21,
   "id": "b4f33448-3700-42a5-aa4e-35f52d22348d",
   "metadata": {},
   "outputs": [
    {
     "name": "stdout",
     "output_type": "stream",
     "text": [
      "(1, 2, 3, 4)\n",
      "(1, 2, 3)\n"
     ]
    }
   ],
   "source": [
    "#No Error Prone in Tuple\n",
    "a=(1,2,3)\n",
    "b=a\n",
    "a= a+(4,)\n",
    "print(a)\n",
    "print(b)"
   ]
  },
  {
   "cell_type": "markdown",
   "id": "2370c237-130d-4ac5-8bdc-924aca868e63",
   "metadata": {},
   "source": [
    "8. Special Syntax"
   ]
  },
  {
   "cell_type": "code",
   "execution_count": 26,
   "id": "1894e839-322f-4530-b037-3d1834b816bb",
   "metadata": {},
   "outputs": [
    {
     "name": "stdout",
     "output_type": "stream",
     "text": [
      "1 2 3\n"
     ]
    }
   ],
   "source": [
    "#Tuple Unpacking\n",
    "a,b,c= (1,2,3)\n",
    "print(a,b,c)"
   ]
  },
  {
   "cell_type": "code",
   "execution_count": 27,
   "id": "c1f3dcbc-73fc-41fc-a3b0-e9954ccea8b2",
   "metadata": {},
   "outputs": [
    {
     "ename": "ValueError",
     "evalue": "too many values to unpack (expected 2)",
     "output_type": "error",
     "traceback": [
      "\u001b[1;31m---------------------------------------------------------------------------\u001b[0m",
      "\u001b[1;31mValueError\u001b[0m                                Traceback (most recent call last)",
      "Cell \u001b[1;32mIn[27], line 1\u001b[0m\n\u001b[1;32m----> 1\u001b[0m a,b\u001b[38;5;241m=\u001b[39m (\u001b[38;5;241m1\u001b[39m,\u001b[38;5;241m2\u001b[39m,\u001b[38;5;241m3\u001b[39m)\n\u001b[0;32m      2\u001b[0m \u001b[38;5;28mprint\u001b[39m(a,b)\n",
      "\u001b[1;31mValueError\u001b[0m: too many values to unpack (expected 2)"
     ]
    }
   ],
   "source": [
    "a,b= (1,2,3)\n",
    "print(a,b)"
   ]
  },
  {
   "cell_type": "code",
   "execution_count": 29,
   "id": "f76ab8ad-8b7c-4e60-a12e-7035889f0127",
   "metadata": {},
   "outputs": [
    {
     "name": "stdout",
     "output_type": "stream",
     "text": [
      "1 2\n",
      "[3, 4, 5]\n"
     ]
    }
   ],
   "source": [
    "a,b,*others=(1,2,3,4,5)\n",
    "print(a,b)\n",
    "print(others)"
   ]
  },
  {
   "cell_type": "code",
   "execution_count": 30,
   "id": "f03073a8-4837-4edf-8d73-fbee2be05d02",
   "metadata": {},
   "outputs": [
    {
     "name": "stdout",
     "output_type": "stream",
     "text": [
      "2 1\n"
     ]
    }
   ],
   "source": [
    "#Swapping in python\n",
    "\n",
    "a=1\n",
    "b=2\n",
    "a,b=b,a\n",
    "print(a,b)"
   ]
  },
  {
   "cell_type": "markdown",
   "id": "e1235d0a-fa64-451a-82d8-8bfd331e3cad",
   "metadata": {},
   "source": [
    "9. Zip Function"
   ]
  },
  {
   "cell_type": "code",
   "execution_count": 32,
   "id": "8d141eab-8b4f-4bb4-a1b1-19cb39e06ef4",
   "metadata": {},
   "outputs": [
    {
     "name": "stdout",
     "output_type": "stream",
     "text": [
      "((1, 6), (2, 7), (3, 8), (4, 9))\n",
      "[(1, 6), (2, 7), (3, 8), (4, 9)]\n",
      "{(4, 9), (1, 6), (3, 8), (2, 7)}\n"
     ]
    }
   ],
   "source": [
    "a=(1,2,3,4,5)\n",
    "b=(6,7,8,9)\n",
    "\n",
    "print(tuple(zip(a,b)))\n",
    "print(list(zip(a,b)))\n",
    "print(set(zip(a,b)))"
   ]
  },
  {
   "cell_type": "code",
   "execution_count": null,
   "id": "62df7bb8-ad05-4f33-8809-21e609848e41",
   "metadata": {},
   "outputs": [],
   "source": []
  }
 ],
 "metadata": {
  "kernelspec": {
   "display_name": "Python 3 (ipykernel)",
   "language": "python",
   "name": "python3"
  },
  "language_info": {
   "codemirror_mode": {
    "name": "ipython",
    "version": 3
   },
   "file_extension": ".py",
   "mimetype": "text/x-python",
   "name": "python",
   "nbconvert_exporter": "python",
   "pygments_lexer": "ipython3",
   "version": "3.11.7"
  }
 },
 "nbformat": 4,
 "nbformat_minor": 5
}
