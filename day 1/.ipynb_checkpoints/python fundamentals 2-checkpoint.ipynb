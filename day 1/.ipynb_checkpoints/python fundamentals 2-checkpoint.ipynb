{
 "cells": [
  {
   "cell_type": "markdown",
   "id": "677dff04-4065-4fc6-8ad6-81f8dd21b08c",
   "metadata": {},
   "source": [
    "1. Arithmetic Operators"
   ]
  },
  {
   "cell_type": "code",
   "execution_count": 1,
   "id": "a85a885f-ffed-4582-8948-0e51d67e10a2",
   "metadata": {},
   "outputs": [
    {
     "name": "stdout",
     "output_type": "stream",
     "text": [
      "11\n",
      "-1\n",
      "30\n",
      "2.5\n",
      "2\n",
      "1\n",
      "25\n"
     ]
    }
   ],
   "source": [
    "print(5+6)\n",
    "print(5-6)\n",
    "print(5*6)\n",
    "print(5/2)\n",
    "print(5//2)\n",
    "print(5%2)\n",
    "print(5**2)"
   ]
  },
  {
   "cell_type": "markdown",
   "id": "6f2a102b-2e05-4ee4-a0f7-5361eadbb058",
   "metadata": {},
   "source": [
    "2. Relational Operators"
   ]
  },
  {
   "cell_type": "code",
   "execution_count": 2,
   "id": "dd7980d1-cac7-49df-83d2-20f2c2ea9eab",
   "metadata": {},
   "outputs": [
    {
     "name": "stdout",
     "output_type": "stream",
     "text": [
      "False\n",
      "True\n",
      "False\n",
      "True\n",
      "True\n",
      "False\n"
     ]
    }
   ],
   "source": [
    "print(4>5)\n",
    "print(4<5)\n",
    "print(4>=5)\n",
    "print(4<=4)\n",
    "print(4==4)\n",
    "print(4!=4)"
   ]
  },
  {
   "cell_type": "markdown",
   "id": "b8d6734d-bbef-4ea1-8b9f-040175f9cb6e",
   "metadata": {},
   "source": [
    "3. Logical Operators"
   ]
  },
  {
   "cell_type": "code",
   "execution_count": 3,
   "id": "0a403970-debd-445e-9588-48e6e19f7cf9",
   "metadata": {},
   "outputs": [
    {
     "name": "stdout",
     "output_type": "stream",
     "text": [
      "0\n",
      "1\n",
      "False\n"
     ]
    }
   ],
   "source": [
    "#AND, OR , NOT\n",
    "print(1 and 0)\n",
    "print(1 or 0)\n",
    "print(not 1)"
   ]
  },
  {
   "cell_type": "markdown",
   "id": "09c911b6-058e-47e2-8d91-67037d8f8113",
   "metadata": {},
   "source": [
    "4. Bitwise Operators"
   ]
  },
  {
   "cell_type": "code",
   "execution_count": 4,
   "id": "6f5613b4-5971-495b-a90a-801be6e7b9d6",
   "metadata": {},
   "outputs": [
    {
     "name": "stdout",
     "output_type": "stream",
     "text": [
      "2\n",
      "3\n",
      "1\n",
      "-4\n",
      "1\n",
      "20\n"
     ]
    }
   ],
   "source": [
    "print (2 & 3)\n",
    "print(2 | 3)\n",
    "print(2 ^ 3)\n",
    "print(~3)\n",
    "print(4>>2)\n",
    "print(5<<2)"
   ]
  },
  {
   "cell_type": "markdown",
   "id": "31d44e56-e606-4df0-856a-550df996635b",
   "metadata": {},
   "source": [
    "5. Assignment Operators"
   ]
  },
  {
   "cell_type": "code",
   "execution_count": 7,
   "id": "2e6455a7-f60c-452b-be1b-db325178af4b",
   "metadata": {},
   "outputs": [
    {
     "name": "stdout",
     "output_type": "stream",
     "text": [
      "4\n"
     ]
    }
   ],
   "source": [
    "a=2\n",
    "a+=2\n",
    "print(a)"
   ]
  },
  {
   "cell_type": "markdown",
   "id": "68f08dbd-73c0-4d06-bff7-be15d28a0267",
   "metadata": {},
   "source": [
    "6. Membership Operators"
   ]
  },
  {
   "cell_type": "code",
   "execution_count": 9,
   "id": "8afda379-838e-4ad3-acb8-6e5f8afd0dcd",
   "metadata": {},
   "outputs": [
    {
     "name": "stdout",
     "output_type": "stream",
     "text": [
      "True\n",
      "False\n",
      "True\n"
     ]
    }
   ],
   "source": [
    "print('D' in 'Delhi')\n",
    "print('D' not in 'Delhi')\n",
    "print(1 in [1,2,3,4,5])"
   ]
  },
  {
   "cell_type": "markdown",
   "id": "7b4de0bd-52ef-4464-8ef4-c1a776f78b44",
   "metadata": {},
   "source": [
    "Program"
   ]
  },
  {
   "cell_type": "code",
   "execution_count": 11,
   "id": "46095395-8b5b-46b1-b556-2999e4a17006",
   "metadata": {},
   "outputs": [
    {
     "name": "stdin",
     "output_type": "stream",
     "text": [
      "Enter 3 digit number:  123\n"
     ]
    },
    {
     "name": "stdout",
     "output_type": "stream",
     "text": [
      "6\n"
     ]
    }
   ],
   "source": [
    "#print the sum of 3 digit number\n",
    "number= int(input(\"Enter 3 digit number: \"))\n",
    "\n",
    "a= number%10\n",
    "number= number//10\n",
    "\n",
    "b= number%10\n",
    "number= number//10\n",
    "\n",
    "c= number%10\n",
    "number= number//10\n",
    "\n",
    "print(a+b+c)\n"
   ]
  },
  {
   "cell_type": "markdown",
   "id": "fd8a8d57-838e-4773-9c76-c01d6239159a",
   "metadata": {},
   "source": [
    "Login Program to understand If Else"
   ]
  },
  {
   "cell_type": "code",
   "execution_count": 14,
   "id": "b7afa1ea-fb9c-4617-b5ad-c226117855ed",
   "metadata": {},
   "outputs": [
    {
     "name": "stdout",
     "output_type": "stream",
     "text": [
      "Number is positive\n"
     ]
    }
   ],
   "source": [
    "#If Condition\n",
    "num=5\n",
    "if num > 2:\n",
    "    print(\"Number is positive\")\n"
   ]
  },
  {
   "cell_type": "code",
   "execution_count": 16,
   "id": "4b5a96e8-1919-42b7-bf05-c5a6d70fea78",
   "metadata": {},
   "outputs": [
    {
     "name": "stdout",
     "output_type": "stream",
     "text": [
      "Number is even\n"
     ]
    }
   ],
   "source": [
    "#If- Else Condition\n",
    "num= 4\n",
    "if num%2 ==0:\n",
    "    print(\"Number is even\")\n",
    "else:\n",
    "    print(\"Number is odd\")"
   ]
  },
  {
   "cell_type": "code",
   "execution_count": 18,
   "id": "48a76d69-3ec3-49c3-b22e-8d92aeae66b7",
   "metadata": {},
   "outputs": [
    {
     "name": "stdin",
     "output_type": "stream",
     "text": [
      "Enter your email:  abc@gmail.com\n",
      "Enter your password:  12345\n"
     ]
    },
    {
     "name": "stdout",
     "output_type": "stream",
     "text": [
      "Password is incorrect\n"
     ]
    },
    {
     "name": "stdin",
     "output_type": "stream",
     "text": [
      "Enter password again:  1234\n"
     ]
    },
    {
     "name": "stdout",
     "output_type": "stream",
     "text": [
      "Welcome\n"
     ]
    }
   ],
   "source": [
    "#Nested If-Elif- Else Condition \n",
    "email= input('Enter your email: ')\n",
    "password= input('Enter your password: ')\n",
    "\n",
    "if email== \"abc@gmail.com\" and password== \"1234\":\n",
    "    print(\"Welcome\")\n",
    "elif email == \"abc@gmail.com\" and password !=\"1234\":\n",
    "    print(\"Password is incorrect\")\n",
    "    password= input(\"Enter password again: \")\n",
    "    if password== \"1234\":\n",
    "       print(\"Welcome\")\n",
    "    else:\n",
    "        print(\"U can't now\")                             \n",
    "else:\n",
    "    print(\"In correct\")"
   ]
  },
  {
   "cell_type": "code",
   "execution_count": 19,
   "id": "add376f0-6c4d-4d94-a0a9-20156461b010",
   "metadata": {},
   "outputs": [
    {
     "name": "stdin",
     "output_type": "stream",
     "text": [
      "Enter first number:  1\n",
      "Enter second number:  2\n",
      "Enter third number:  3\n"
     ]
    },
    {
     "name": "stdout",
     "output_type": "stream",
     "text": [
      "the greatest is:  3\n"
     ]
    }
   ],
   "source": [
    "#Max of three numbers\n",
    "a= input(\"Enter first number: \")\n",
    "b= input(\"Enter second number: \")\n",
    "c= input(\"Enter third number: \")\n",
    "\n",
    "if a>b and a>c:\n",
    "    print(\"the greatest is: \",a)\n",
    "elif b>c:\n",
    "    print(\"the greatest is: \",b)\n",
    "else:\n",
    "    print(\"the greatest is: \",c)"
   ]
  },
  {
   "cell_type": "code",
   "execution_count": 3,
   "id": "79d322fc-23e4-4c0f-926d-1d951b4b2084",
   "metadata": {},
   "outputs": [
    {
     "name": "stdin",
     "output_type": "stream",
     "text": [
      "Enter first number:  3\n",
      "Enter second number:  2\n",
      "Enter third number:  1\n",
      "Enter fourth number:  5\n"
     ]
    },
    {
     "name": "stdout",
     "output_type": "stream",
     "text": [
      "Maximum:  5\n"
     ]
    }
   ],
   "source": [
    "#Max of 4 numbers\n",
    "\n",
    "a= input(\"Enter first number: \")\n",
    "b=input(\"Enter second number: \")\n",
    "c=input(\"Enter third number: \")\n",
    "d=input(\"Enter fourth number: \")\n",
    "maximum= a\n",
    "\n",
    "if b> maximum:\n",
    "    maximum= b\n",
    "if c> maximum:\n",
    "    maximum= c\n",
    "if d> maximum:\n",
    "    maximum=d\n",
    "\n",
    "print(\"Maximum: \",maximum)"
   ]
  },
  {
   "cell_type": "code",
   "execution_count": 5,
   "id": "5ea71a60-62af-4954-81c5-9ee82894c743",
   "metadata": {},
   "outputs": [
    {
     "name": "stdin",
     "output_type": "stream",
     "text": [
      "Enter the first number:  6\n",
      "Enter the second number:  2\n",
      "Enter the operator for operation:  *\n"
     ]
    },
    {
     "name": "stdout",
     "output_type": "stream",
     "text": [
      "12\n"
     ]
    }
   ],
   "source": [
    "#Menu driven calculator\n",
    "\n",
    "fnum=int(input(\"Enter the first number: \"))\n",
    "snum=int(input(\"Enter the second number: \"))\n",
    "\n",
    "operator= input(\"Enter the operator for operation: \")\n",
    "\n",
    "if operator=='+':\n",
    "    print(fnum+snum)\n",
    "elif operator=='-':\n",
    "    print(fnum-snum)\n",
    "elif operator=='*':\n",
    "    print(fnum*snum)\n",
    "else:\n",
    "    print(fnum/snum)"
   ]
  },
  {
   "cell_type": "code",
   "execution_count": 6,
   "id": "b8d8b7f3-ffe9-41d0-8199-b64b206c8df3",
   "metadata": {},
   "outputs": [
    {
     "name": "stdin",
     "output_type": "stream",
     "text": [
      " Welcome to ATM Machine\n",
      "1.Change the pin\n",
      "2.Check the balance\n",
      "3.Withdraw the amount 3\n"
     ]
    },
    {
     "name": "stdout",
     "output_type": "stream",
     "text": [
      "withdraw\n"
     ]
    }
   ],
   "source": [
    "#ATM Machine Program\n",
    "menu= input(\"\"\" Welcome to ATM Machine\n",
    "1.Change the pin\n",
    "2.Check the balance\n",
    "3.Withdraw the amount\"\"\")\n",
    "\n",
    "if menu=='1':\n",
    "    print(\"change pin\")\n",
    "elif menu=='2':\n",
    "    print(\"balance\")\n",
    "else:\n",
    "    print(\"withdraw\")\n",
    "\n"
   ]
  },
  {
   "cell_type": "markdown",
   "id": "680ced6a-58dc-4ea4-9b85-7cea72ccc4a4",
   "metadata": {},
   "source": [
    "7. Modules in python"
   ]
  },
  {
   "cell_type": "code",
   "execution_count": 8,
   "id": "c620853e-eb84-45df-8b5e-7dd76fd0cce3",
   "metadata": {},
   "outputs": [
    {
     "name": "stdout",
     "output_type": "stream",
     "text": [
      "14.0\n",
      "6\n",
      "720\n"
     ]
    }
   ],
   "source": [
    "# math module\n",
    "import math\n",
    "\n",
    "print(math.sqrt(196))\n",
    "print(math.floor(6.8))\n",
    "print(math.factorial(6))"
   ]
  },
  {
   "cell_type": "code",
   "execution_count": 9,
   "id": "c3b16009-72ee-4d44-a22e-3dc49d3b803a",
   "metadata": {},
   "outputs": [
    {
     "name": "stdout",
     "output_type": "stream",
     "text": [
      "['False', 'None', 'True', 'and', 'as', 'assert', 'async', 'await', 'break', 'class', 'continue', 'def', 'del', 'elif', 'else', 'except', 'finally', 'for', 'from', 'global', 'if', 'import', 'in', 'is', 'lambda', 'nonlocal', 'not', 'or', 'pass', 'raise', 'return', 'try', 'while', 'with', 'yield']\n"
     ]
    }
   ],
   "source": [
    "# keyword module\n",
    "import keyword\n",
    "\n",
    "print(keyword.kwlist)"
   ]
  },
  {
   "cell_type": "code",
   "execution_count": 10,
   "id": "a81a01b1-22e8-47d9-a4bb-25eb3f3aa5f6",
   "metadata": {},
   "outputs": [
    {
     "name": "stdout",
     "output_type": "stream",
     "text": [
      "82\n"
     ]
    }
   ],
   "source": [
    "# random module\n",
    "import random\n",
    "\n",
    "print(random.randint(1,100))"
   ]
  },
  {
   "cell_type": "code",
   "execution_count": 11,
   "id": "4f62d142-dfa0-4d5d-a4bf-ee5f2d32a2df",
   "metadata": {},
   "outputs": [
    {
     "name": "stdout",
     "output_type": "stream",
     "text": [
      "2025-08-24 10:25:56.671232\n"
     ]
    }
   ],
   "source": [
    "# date time module\n",
    "import datetime\n",
    "\n",
    "print(datetime.datetime.now())"
   ]
  },
  {
   "cell_type": "code",
   "execution_count": 14,
   "id": "15462329-a2a9-4aa8-9ed0-5468d557419b",
   "metadata": {},
   "outputs": [
    {
     "name": "stdout",
     "output_type": "stream",
     "text": [
      "Installed modules:\n",
      "_asyncio\n",
      "_bz2\n",
      "_ctypes\n",
      "_ctypes_test\n",
      "_decimal\n",
      "_elementtree\n",
      "_hashlib\n",
      "_lzma\n",
      "_msi\n",
      "_multiprocessing\n",
      "_overlapped\n",
      "_queue\n",
      "_socket\n",
      "_sqlite3\n",
      "_ssl\n",
      "_testbuffer\n",
      "_testcapi\n",
      "_testconsole\n",
      "_testimportmultiple\n",
      "_testinternalcapi\n",
      "_testmultiphase\n",
      "_tkinter\n",
      "_uuid\n",
      "_zoneinfo\n",
      "pyexpat\n",
      "select\n",
      "unicodedata\n",
      "winsound\n",
      "xxlimited\n",
      "xxlimited_35\n",
      "__future__\n",
      "__hello__\n",
      "__phello__\n",
      "_aix_support\n",
      "_bootsubprocess\n",
      "_collections_abc\n",
      "_compat_pickle\n",
      "_compression\n",
      "_markupbase\n",
      "_nsis\n",
      "_osx_support\n",
      "_py_abc\n",
      "_pydecimal\n",
      "_pyio\n",
      "_sitebuiltins\n",
      "_strptime\n",
      "_system_path\n",
      "_threading_local\n",
      "_weakrefset\n",
      "abc\n",
      "aifc\n",
      "antigravity\n",
      "argparse\n",
      "ast\n",
      "asynchat\n",
      "asyncio\n",
      "asyncore\n",
      "base64\n",
      "bdb\n",
      "bisect\n",
      "bz2\n",
      "cProfile\n",
      "calendar\n",
      "cgi\n",
      "cgitb\n",
      "chunk\n",
      "cmd\n",
      "code\n",
      "codecs\n",
      "codeop\n",
      "collections\n",
      "colorsys\n",
      "compileall\n",
      "concurrent\n",
      "configparser\n",
      "contextlib\n",
      "contextvars\n",
      "copy\n",
      "copyreg\n",
      "crypt\n",
      "csv\n",
      "ctypes\n",
      "curses\n",
      "dataclasses\n",
      "datetime\n",
      "dbm\n",
      "decimal\n",
      "difflib\n",
      "dis\n",
      "distutils\n",
      "doctest\n",
      "email\n",
      "encodings\n",
      "ensurepip\n",
      "enum\n",
      "filecmp\n",
      "fileinput\n",
      "fnmatch\n",
      "fractions\n",
      "ftplib\n",
      "functools\n",
      "genericpath\n",
      "getopt\n",
      "getpass\n",
      "gettext\n",
      "glob\n",
      "graphlib\n",
      "gzip\n",
      "hashlib\n",
      "heapq\n",
      "hmac\n",
      "html\n",
      "http\n",
      "idlelib\n",
      "imaplib\n",
      "imghdr\n",
      "imp\n",
      "importlib\n",
      "inspect\n",
      "io\n",
      "ipaddress\n",
      "json\n",
      "keyword\n",
      "lib2to3\n",
      "linecache\n",
      "locale\n",
      "logging\n",
      "lzma\n",
      "mailbox\n",
      "mailcap\n",
      "mimetypes\n",
      "modulefinder\n",
      "msilib\n",
      "multiprocessing\n",
      "netrc\n",
      "nntplib\n",
      "ntpath\n",
      "nturl2path\n",
      "numbers\n",
      "opcode\n",
      "operator\n",
      "optparse\n",
      "os\n",
      "pathlib\n",
      "pdb\n",
      "pickle\n",
      "pickletools\n",
      "pipes\n",
      "pkgutil\n",
      "platform\n",
      "plistlib\n",
      "poplib\n",
      "posixpath\n",
      "pprint\n",
      "profile\n",
      "pstats\n",
      "pty\n",
      "py_compile\n",
      "pyclbr\n",
      "pydoc\n",
      "pydoc_data\n",
      "queue\n",
      "quopri\n",
      "random\n",
      "re\n",
      "reprlib\n",
      "rlcompleter\n",
      "runpy\n",
      "sched\n",
      "secrets\n",
      "selectors\n",
      "shelve\n",
      "shlex\n",
      "shutil\n",
      "signal\n",
      "site\n",
      "smtpd\n",
      "smtplib\n",
      "sndhdr\n",
      "socket\n",
      "socketserver\n",
      "sqlite3\n",
      "sre_compile\n",
      "sre_constants\n",
      "sre_parse\n",
      "ssl\n",
      "stat\n",
      "statistics\n",
      "string\n",
      "stringprep\n",
      "struct\n",
      "subprocess\n",
      "sunau\n",
      "symtable\n",
      "sysconfig\n",
      "tabnanny\n",
      "tarfile\n",
      "telnetlib\n",
      "tempfile\n",
      "test\n",
      "textwrap\n",
      "this\n",
      "threading\n",
      "timeit\n",
      "tkinter\n",
      "token\n",
      "tokenize\n",
      "tomllib\n",
      "trace\n",
      "traceback\n",
      "tracemalloc\n",
      "tty\n",
      "turtle\n",
      "turtledemo\n",
      "types\n",
      "typing\n",
      "unittest\n",
      "urllib\n",
      "uu\n",
      "uuid\n",
      "venv\n",
      "warnings\n",
      "wave\n",
      "weakref\n",
      "webbrowser\n",
      "wsgiref\n",
      "xdrlib\n",
      "xml\n",
      "xmlrpc\n",
      "zipapp\n",
      "zipfile\n",
      "zipimport\n",
      "zoneinfo\n",
      "cwp\n",
      "IPython\n",
      "absl\n",
      "adodbapi\n",
      "asttokens\n",
      "astunparse\n",
      "bin\n",
      "blis\n",
      "catalogue\n",
      "clang\n",
      "cloudpathlib\n",
      "comm\n",
      "confection\n",
      "cv2\n",
      "cymem\n",
      "debugpy\n",
      "decorator\n",
      "distance\n",
      "emoji\n",
      "en_core_web_sm\n",
      "executing\n",
      "flatbuffers\n",
      "functorch\n",
      "fuzzywuzzy\n",
      "gast\n",
      "grpc\n",
      "h5py\n",
      "ipykernel\n",
      "ipykernel_launcher\n",
      "isapi\n",
      "jedi\n",
      "jupyter\n",
      "jupyter_client\n",
      "jupyter_core\n",
      "keras\n",
      "langcodes\n",
      "language_data\n",
      "marisa_trie\n",
      "matplotlib_inline\n",
      "ml_dtypes\n",
      "murmurhash\n",
      "namex\n",
      "nest_asyncio\n",
      "nltk\n",
      "opt_einsum\n",
      "optree\n",
      "parso\n",
      "pasta\n",
      "platformdirs\n",
      "preshed\n",
      "prompt_toolkit\n",
      "psutil\n",
      "pure_eval\n",
      "pygments\n",
      "pythoncom\n",
      "shellingham\n",
      "spacy\n",
      "spacy_legacy\n",
      "spacy_loggers\n",
      "srsly\n",
      "stack_data\n",
      "tensorboard\n",
      "tensorboard_data_server\n",
      "tensorflow\n",
      "tensorflow_io_gcs_filesystem\n",
      "termcolor\n",
      "tests\n",
      "textblob\n",
      "theano\n",
      "thinc\n",
      "torch\n",
      "torchaudio\n",
      "torchgen\n",
      "torchvision\n",
      "torio\n",
      "tornado\n",
      "traitlets\n",
      "typer\n",
      "wasabi\n",
      "wcwidth\n",
      "weasel\n",
      "win32com\n",
      "xgboost\n",
      "zmq\n",
      "_win32sysloader\n",
      "_winxptheme\n",
      "mmapfile\n",
      "odbc\n",
      "perfmon\n",
      "servicemanager\n",
      "timer\n",
      "win32api\n",
      "win32clipboard\n",
      "win32console\n",
      "win32cred\n",
      "win32crypt\n",
      "win32event\n",
      "win32evtlog\n",
      "win32file\n",
      "win32gui\n",
      "win32help\n",
      "win32inet\n",
      "win32job\n",
      "win32lz\n",
      "win32net\n",
      "win32pdh\n",
      "win32pipe\n",
      "win32print\n",
      "win32process\n",
      "win32profile\n",
      "win32ras\n",
      "win32security\n",
      "win32service\n",
      "win32trace\n",
      "win32transaction\n",
      "win32ts\n",
      "win32wnet\n",
      "winxpgui\n",
      "afxres\n",
      "commctrl\n",
      "dbi\n",
      "mmsystem\n",
      "netbios\n",
      "ntsecuritycon\n",
      "pywin32_bootstrap\n",
      "pywin32_testutil\n",
      "pywintypes\n",
      "rasutil\n",
      "regcheck\n",
      "regutil\n",
      "sspi\n",
      "sspicon\n",
      "win2kras\n",
      "win32con\n",
      "win32cryptcon\n",
      "win32evtlogutil\n",
      "win32gui_struct\n",
      "win32inetcon\n",
      "win32netcon\n",
      "win32pdhquery\n",
      "win32pdhutil\n",
      "win32rcparser\n",
      "win32serviceutil\n",
      "win32timezone\n",
      "win32traceutil\n",
      "win32verstamp\n",
      "winerror\n",
      "winioctlcon\n",
      "winnt\n",
      "winperf\n",
      "winxptheme\n",
      "dde\n",
      "pywin\n",
      "start_pythonwin\n",
      "win32ui\n",
      "win32uiole\n",
      "6c7190bc8b55ffe67f57__mypyc\n",
      "OpenSSL\n",
      "PIL\n",
      "PyQt5\n",
      "_argon2_cffi_bindings\n",
      "_black_version\n",
      "_brotli\n",
      "_cffi_backend\n",
      "_distutils_hack\n",
      "_plotly_future_\n",
      "_plotly_utils\n",
      "_pytest\n",
      "_yaml\n",
      "aiobotocore\n",
      "aiohttp\n",
      "aioitertools\n",
      "aiosignal\n",
      "alabaster\n",
      "altair\n",
      "anaconda_anon_usage\n",
      "anaconda_catalogs\n",
      "anaconda_cloud_auth\n",
      "anaconda_navigator\n",
      "anaconda_project\n",
      "anyio\n",
      "appdirs\n",
      "archspec\n",
      "argon2\n",
      "arrow\n",
      "astroid\n",
      "astropy\n",
      "async_lru\n",
      "atomicwrites\n",
      "attr\n",
      "attrs\n",
      "automat\n",
      "autopep8\n",
      "babel\n",
      "backports\n",
      "bcrypt\n",
      "binaryornot\n",
      "binstar_client\n",
      "black\n",
      "blackd\n",
      "bleach\n",
      "blib2to3\n",
      "blinker\n",
      "bokeh\n",
      "boltons\n",
      "botocore\n",
      "bottleneck\n",
      "brotli\n",
      "bs4\n",
      "cachetools\n",
      "certifi\n",
      "cffi\n",
      "chardet\n",
      "charset_normalizer\n",
      "click\n",
      "cloudpickle\n",
      "clyent\n",
      "colorama\n",
      "colorcet\n",
      "conda\n",
      "conda_build\n",
      "conda_content_trust\n",
      "conda_env\n",
      "conda_index\n",
      "conda_libmamba_solver\n",
      "conda_pack\n",
      "conda_package_handling\n",
      "conda_package_streaming\n",
      "conda_token\n",
      "conda_verify\n",
      "constantly\n",
      "contourpy\n",
      "cookiecutter\n",
      "cpuinfo\n",
      "cryptography\n",
      "cssselect\n",
      "curl\n",
      "cycler\n",
      "cytoolz\n",
      "dask\n",
      "datashader\n",
      "dateutil\n",
      "defusedxml\n",
      "diff_match_patch\n",
      "dill\n",
      "distributed\n",
      "distro\n",
      "docstring_to_markdown\n",
      "docutils\n",
      "dotenv\n",
      "entrypoints\n",
      "erfa\n",
      "et_xmlfile\n",
      "fastjsonschema\n",
      "filelock\n",
      "flake8\n",
      "flask\n",
      "fontTools\n",
      "frozenlist\n",
      "fsspec\n",
      "future\n",
      "gensim\n",
      "git\n",
      "gitdb\n",
      "gmpy2\n",
      "greenlet\n",
      "heapdict\n",
      "holoviews\n",
      "hvplot\n",
      "hyperlink\n",
      "idna\n",
      "imagecodecs\n",
      "imageio\n",
      "imagesize\n",
      "imblearn\n",
      "importlib_metadata\n",
      "incremental\n",
      "inflection\n",
      "iniconfig\n",
      "intake\n",
      "intervaltree\n",
      "ipython_genutils\n",
      "ipywidgets\n",
      "isort\n",
      "isympy\n",
      "itemadapter\n",
      "itemloaders\n",
      "itsdangerous\n",
      "jellyfish\n",
      "jinja2\n",
      "jmespath\n",
      "joblib\n",
      "json5\n",
      "jsonpatch\n",
      "jsonpointer\n",
      "jsonschema\n",
      "jsonschema_specifications\n",
      "jupyter_console\n",
      "jupyter_events\n",
      "jupyter_lsp\n",
      "jupyter_server\n",
      "jupyter_server_terminals\n",
      "jupyterlab\n",
      "jupyterlab_plotly\n",
      "jupyterlab_pygments\n",
      "jupyterlab_server\n",
      "jupyterlab_widgets\n",
      "jwt\n",
      "keyring\n",
      "kiwisolver\n",
      "lazy_loader\n",
      "lazy_object_proxy\n",
      "lckr_jupyterlab_variableinspector\n",
      "libarchive\n",
      "libfuturize\n",
      "libmambapy\n",
      "libpasteurize\n",
      "lief\n",
      "linkify_it\n",
      "llvmlite\n",
      "lmdb\n",
      "locket\n",
      "lxml\n",
      "lz4\n",
      "markdown\n",
      "markdown_it\n",
      "markupsafe\n",
      "matplotlib\n",
      "mccabe\n",
      "mdit_py_plugins\n",
      "mdurl\n",
      "menuinst\n",
      "mistune\n",
      "mkl\n",
      "mkl_fft\n",
      "more_itertools\n",
      "mpmath\n",
      "msgpack\n",
      "multidict\n",
      "multipledispatch\n",
      "munkres\n",
      "mypy\n",
      "mypy_extensions\n",
      "mypyc\n",
      "nacl\n",
      "navigator_updater\n",
      "nbclient\n",
      "nbconvert\n",
      "nbformat\n",
      "networkx\n",
      "notebook\n",
      "notebook_shim\n",
      "numba\n",
      "numbergen\n",
      "numexpr\n",
      "numpy\n",
      "numpydoc\n",
      "openpyxl\n",
      "overrides\n",
      "packaging\n",
      "pandas\n",
      "pandocfilters\n",
      "panel\n",
      "param\n",
      "paramiko\n",
      "parsel\n",
      "partd\n",
      "past\n",
      "pathspec\n",
      "patsy\n",
      "pexpect\n",
      "pickleshare\n",
      "pip\n",
      "pkce\n",
      "pkg_resources\n",
      "pkginfo\n",
      "plotly\n",
      "pluggy\n",
      "ply\n",
      "prometheus_client\n",
      "protego\n",
      "ptyprocess\n",
      "py\n",
      "pyarrow\n",
      "pyasn1\n",
      "pyasn1_modules\n",
      "pycodestyle\n",
      "pycosat\n",
      "pycparser\n",
      "pyct\n",
      "pycurl\n",
      "pydantic\n",
      "pydeck\n",
      "pydispatch\n",
      "pydocstyle\n",
      "pyflakes\n",
      "pylab\n",
      "pylint\n",
      "pylint_venv\n",
      "pyls_spyder\n",
      "pylsp\n",
      "pylsp_black\n",
      "pylsp_jsonrpc\n",
      "pyodbc\n",
      "pyparsing\n",
      "pytest\n",
      "pythonjsonlogger\n",
      "pytoolconfig\n",
      "pytz\n",
      "pyviz_comms\n",
      "pywt\n",
      "qdarkstyle\n",
      "qstylizer\n",
      "qtawesome\n",
      "qtconsole\n",
      "qtpy\n",
      "queuelib\n",
      "referencing\n",
      "regex\n",
      "repo_cli\n",
      "requests\n",
      "requests_file\n",
      "requests_toolbelt\n",
      "rfc3339_validator\n",
      "rfc3986_validator\n",
      "rich\n",
      "rope\n",
      "rpds\n",
      "rtree\n",
      "ruamel_yaml\n",
      "s3fs\n",
      "scipy\n",
      "scrapy\n",
      "seaborn\n",
      "semver\n",
      "send2trash\n",
      "service_identity\n",
      "setuptools\n",
      "sipbuild\n",
      "six\n",
      "skimage\n",
      "sklearn\n",
      "slugify\n",
      "smart_open\n",
      "smmap\n",
      "snappy\n",
      "sniffio\n",
      "snowballstemmer\n",
      "socks\n",
      "sockshandler\n",
      "sortedcontainers\n",
      "soupsieve\n",
      "sphinx\n",
      "spyder\n",
      "spyder_kernels\n",
      "sqlalchemy\n",
      "statsmodels\n",
      "streamlit\n",
      "sympy\n",
      "tables\n",
      "tabulate\n",
      "tblib\n",
      "tenacity\n",
      "terminado\n",
      "test_pycosat\n",
      "text_unidecode\n",
      "textdistance\n",
      "threadpoolctl\n",
      "three_merge\n",
      "tifffile\n",
      "tinycss2\n",
      "tldextract\n",
      "tlz\n",
      "toml\n",
      "tomlkit\n",
      "toolz\n",
      "tqdm\n",
      "truststore\n",
      "twisted\n",
      "typing_extensions\n",
      "tzdata\n",
      "tzlocal\n",
      "uc_micro\n",
      "ujson\n",
      "unidecode\n",
      "urllib3\n",
      "validators\n",
      "w3lib\n",
      "watchdog\n",
      "webencodings\n",
      "websocket\n",
      "werkzeug\n",
      "whatthepatch\n",
      "wheel\n",
      "widgetsnbextension\n",
      "win32ctypes\n",
      "win_inet_pton\n",
      "winpty\n",
      "wrapt\n",
      "xarray\n",
      "xlwings\n",
      "xyzservices\n",
      "yaml\n",
      "yapf\n",
      "yapftests\n",
      "yarl\n",
      "zict\n",
      "zipp\n",
      "zope\n",
      "zstandard\n",
      "vboxapi\n"
     ]
    }
   ],
   "source": [
    "import pkgutil\n",
    "\n",
    "modules = [module.name for module in pkgutil.iter_modules()]\n",
    "print(\"Installed modules:\")\n",
    "for m in modules:\n",
    "    print(m)\n"
   ]
  },
  {
   "cell_type": "markdown",
   "id": "3f6bed03-7ecc-4406-869f-78b2754a9045",
   "metadata": {},
   "source": [
    "8. Loops in python"
   ]
  },
  {
   "cell_type": "code",
   "execution_count": 16,
   "id": "86e1c74d-dc02-4d9f-8b75-063533995eff",
   "metadata": {},
   "outputs": [
    {
     "name": "stdin",
     "output_type": "stream",
     "text": [
      "Enter the number:  11\n"
     ]
    },
    {
     "name": "stdout",
     "output_type": "stream",
     "text": [
      "11 * 1 = 11\n",
      "11 * 2 = 22\n",
      "11 * 3 = 33\n",
      "11 * 4 = 44\n",
      "11 * 5 = 55\n",
      "11 * 6 = 66\n",
      "11 * 7 = 77\n",
      "11 * 8 = 88\n",
      "11 * 9 = 99\n",
      "11 * 10 = 110\n"
     ]
    }
   ],
   "source": [
    "# while loop\n",
    "\n",
    "number = int(input(\"Enter the number: \"))\n",
    "\n",
    "i=1\n",
    "while i<11:\n",
    "    print(number, '*', i, '=', number*i)\n",
    "    i +=1"
   ]
  },
  {
   "cell_type": "code",
   "execution_count": 1,
   "id": "02f44c7e-9536-4777-807c-c9d915556dbc",
   "metadata": {},
   "outputs": [
    {
     "name": "stdout",
     "output_type": "stream",
     "text": [
      "1\n",
      "2\n",
      "Condition ended\n"
     ]
    }
   ],
   "source": [
    "# while loop with else statement\n",
    "\n",
    "num=1\n",
    "\n",
    "while num <3:\n",
    "    print(num)\n",
    "    num +=1\n",
    "else:\n",
    "    print(\"Condition ended\")"
   ]
  },
  {
   "cell_type": "code",
   "execution_count": 2,
   "id": "66958f13-5a14-4d37-ba35-959157e138fa",
   "metadata": {},
   "outputs": [
    {
     "name": "stdin",
     "output_type": "stream",
     "text": [
      "Guess the number:  6\n"
     ]
    },
    {
     "name": "stdout",
     "output_type": "stream",
     "text": [
      "guess lower\n"
     ]
    },
    {
     "name": "stdin",
     "output_type": "stream",
     "text": [
      "Guess the number again:  2\n"
     ]
    },
    {
     "name": "stdout",
     "output_type": "stream",
     "text": [
      "guess higher\n"
     ]
    },
    {
     "name": "stdin",
     "output_type": "stream",
     "text": [
      "Guess the number again:  4\n"
     ]
    },
    {
     "name": "stdout",
     "output_type": "stream",
     "text": [
      "guess higher\n"
     ]
    },
    {
     "name": "stdin",
     "output_type": "stream",
     "text": [
      "Guess the number again:  5\n"
     ]
    },
    {
     "name": "stdout",
     "output_type": "stream",
     "text": [
      "correct guess\n",
      "Attempts: 4\n"
     ]
    }
   ],
   "source": [
    "import random\n",
    "\n",
    "jackpot = random.randint(1, 10)\n",
    "\n",
    "guess = int(input(\"Guess the number: \"))\n",
    "count = 1\n",
    "\n",
    "while jackpot != guess:\n",
    "    if guess > jackpot:\n",
    "        print(\"guess lower\")\n",
    "    else:\n",
    "        print(\"guess higher\")\n",
    "\n",
    "   \n",
    "    guess = int(input(\"Guess the number again: \"))\n",
    "    count += 1\n",
    "else:\n",
    "    print(\"correct guess\")\n",
    "    print(\"Attempts:\", count)\n"
   ]
  },
  {
   "cell_type": "code",
   "execution_count": 3,
   "id": "d5f1c2e5-b740-45bf-b7b5-1ea590731c68",
   "metadata": {},
   "outputs": [
    {
     "name": "stdout",
     "output_type": "stream",
     "text": [
      "1\n",
      "2\n",
      "3\n",
      "4\n",
      "5\n",
      "6\n",
      "7\n",
      "8\n",
      "9\n",
      "10\n"
     ]
    }
   ],
   "source": [
    "# For Loop\n",
    "for i in range (1, 11):\n",
    "    print(i)"
   ]
  },
  {
   "cell_type": "code",
   "execution_count": 4,
   "id": "72a91bc0-b099-4c75-b617-34eefb874d04",
   "metadata": {},
   "outputs": [
    {
     "name": "stdout",
     "output_type": "stream",
     "text": [
      "1\n",
      "3\n",
      "5\n",
      "7\n",
      "9\n"
     ]
    }
   ],
   "source": [
    "for i in range(1,11,2):\n",
    "    print(i)"
   ]
  },
  {
   "cell_type": "code",
   "execution_count": 5,
   "id": "a3521d11-b523-465c-8126-340f41006e29",
   "metadata": {},
   "outputs": [
    {
     "name": "stdout",
     "output_type": "stream",
     "text": [
      "10\n",
      "9\n",
      "8\n",
      "7\n",
      "6\n",
      "5\n",
      "4\n",
      "3\n",
      "2\n",
      "1\n"
     ]
    }
   ],
   "source": [
    "for i in range (10,0,-1):\n",
    "    print(i)"
   ]
  },
  {
   "cell_type": "code",
   "execution_count": 6,
   "id": "0beb46cc-4688-477e-a822-47fbb3640a3d",
   "metadata": {},
   "outputs": [
    {
     "name": "stdout",
     "output_type": "stream",
     "text": [
      "D\n",
      "e\n",
      "l\n",
      "h\n",
      "i\n"
     ]
    }
   ],
   "source": [
    "for i in 'Delhi':\n",
    "    print(i)"
   ]
  },
  {
   "cell_type": "code",
   "execution_count": 7,
   "id": "f82a7691-88da-43c0-bb92-5847eff2f15f",
   "metadata": {},
   "outputs": [
    {
     "name": "stdout",
     "output_type": "stream",
     "text": [
      "1\n",
      "2\n",
      "3\n",
      "4\n",
      "5\n"
     ]
    }
   ],
   "source": [
    "for i in {1,2,3,4,5}:\n",
    "    print(i)"
   ]
  },
  {
   "cell_type": "code",
   "execution_count": 8,
   "id": "42f92bd8-361f-49de-a14f-621f9d625f89",
   "metadata": {},
   "outputs": [
    {
     "name": "stdout",
     "output_type": "stream",
     "text": [
      "10 10000\n",
      "9 9000.0\n",
      "8 8100.0\n",
      "7 7290.0\n",
      "6 6561.0\n",
      "5 5904.9\n",
      "4 5314.41\n",
      "3 4782.969\n",
      "2 4304.6721\n",
      "1 3874.20489\n"
     ]
    }
   ],
   "source": [
    "curr_pop= 10000\n",
    "for i in range(10,0,-1):\n",
    "    print(i, curr_pop)\n",
    "    curr_pop = curr_pop - 0.1* curr_pop"
   ]
  },
  {
   "cell_type": "code",
   "execution_count": null,
   "id": "754ca40c-92da-4995-8cb3-993dfb8c29b9",
   "metadata": {},
   "outputs": [],
   "source": []
  }
 ],
 "metadata": {
  "kernelspec": {
   "display_name": "Python 3 (ipykernel)",
   "language": "python",
   "name": "python3"
  },
  "language_info": {
   "codemirror_mode": {
    "name": "ipython",
    "version": 3
   },
   "file_extension": ".py",
   "mimetype": "text/x-python",
   "name": "python",
   "nbconvert_exporter": "python",
   "pygments_lexer": "ipython3",
   "version": "3.11.7"
  }
 },
 "nbformat": 4,
 "nbformat_minor": 5
}
