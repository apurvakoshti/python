{
 "cells": [
  {
   "cell_type": "markdown",
   "id": "ccc2d4c5-ad83-4df6-bc0c-593c535b01d5",
   "metadata": {},
   "source": [
    "1. Python Output"
   ]
  },
  {
   "cell_type": "code",
   "execution_count": 1,
   "id": "2cc29764-fdd4-48c2-a881-9e10d2e89c99",
   "metadata": {},
   "outputs": [
    {
     "name": "stdout",
     "output_type": "stream",
     "text": [
      "Hello World\n"
     ]
    }
   ],
   "source": [
    "print(\"Hello World\")"
   ]
  },
  {
   "cell_type": "code",
   "execution_count": 3,
   "id": "8c0ed6db-b482-437d-bcd6-2dca5f8c497f",
   "metadata": {},
   "outputs": [
    {
     "ename": "SyntaxError",
     "evalue": "invalid syntax. Perhaps you forgot a comma? (1473128490.py, line 1)",
     "output_type": "error",
     "traceback": [
      "\u001b[1;36m  Cell \u001b[1;32mIn[3], line 1\u001b[1;36m\u001b[0m\n\u001b[1;33m    print(salman khan)  #error\u001b[0m\n\u001b[1;37m          ^\u001b[0m\n\u001b[1;31mSyntaxError\u001b[0m\u001b[1;31m:\u001b[0m invalid syntax. Perhaps you forgot a comma?\n"
     ]
    }
   ],
   "source": [
    "print(salman khan)  #error"
   ]
  },
  {
   "cell_type": "code",
   "execution_count": 4,
   "id": "b7cbe095-465a-4e2b-b1ea-c3082a274d7e",
   "metadata": {},
   "outputs": [
    {
     "name": "stdout",
     "output_type": "stream",
     "text": [
      "7\n"
     ]
    }
   ],
   "source": [
    "print(7)"
   ]
  },
  {
   "cell_type": "code",
   "execution_count": 5,
   "id": "c9ea1320-57ba-4596-9fe2-7020a34c9471",
   "metadata": {},
   "outputs": [
    {
     "name": "stdout",
     "output_type": "stream",
     "text": [
      "7.7\n"
     ]
    }
   ],
   "source": [
    "print(7.7)"
   ]
  },
  {
   "cell_type": "code",
   "execution_count": 6,
   "id": "961b465b-1a2e-4b01-b232-fc656c44a075",
   "metadata": {},
   "outputs": [
    {
     "name": "stdout",
     "output_type": "stream",
     "text": [
      "True\n"
     ]
    }
   ],
   "source": [
    "print(True)"
   ]
  },
  {
   "cell_type": "code",
   "execution_count": 7,
   "id": "f42f63ca-fc41-47a2-a516-810f85b6b96b",
   "metadata": {},
   "outputs": [
    {
     "name": "stdout",
     "output_type": "stream",
     "text": [
      "Hello 1 4.5 True\n"
     ]
    }
   ],
   "source": [
    "print('Hello',1,4.5,True)"
   ]
  },
  {
   "cell_type": "code",
   "execution_count": 8,
   "id": "c0ad069c-053f-4d62-a634-cefc16f7bc42",
   "metadata": {},
   "outputs": [
    {
     "name": "stdout",
     "output_type": "stream",
     "text": [
      "Hello/1/4.5/True\n"
     ]
    }
   ],
   "source": [
    "print('Hello', 1, 4.5, True, sep='/')"
   ]
  },
  {
   "cell_type": "code",
   "execution_count": 9,
   "id": "438e1dc2-beb5-4355-89d0-ba8e1cef240f",
   "metadata": {},
   "outputs": [
    {
     "name": "stdout",
     "output_type": "stream",
     "text": [
      "hello\n",
      "world\n"
     ]
    }
   ],
   "source": [
    "print('hello')\n",
    "print('world')"
   ]
  },
  {
   "cell_type": "code",
   "execution_count": 10,
   "id": "f8c9c4c5-ef26-4d4d-8c51-9e932d46ea51",
   "metadata": {},
   "outputs": [
    {
     "name": "stdout",
     "output_type": "stream",
     "text": [
      "hello-world\n"
     ]
    }
   ],
   "source": [
    "print('hello', end='-')\n",
    "print('world')"
   ]
  },
  {
   "cell_type": "markdown",
   "id": "df5105d0-e049-46dc-8c82-6e6888436572",
   "metadata": {},
   "source": [
    "2. Datatype"
   ]
  },
  {
   "cell_type": "code",
   "execution_count": 11,
   "id": "20cf0fd4-11eb-431f-95e1-dc9295d16230",
   "metadata": {},
   "outputs": [
    {
     "name": "stdout",
     "output_type": "stream",
     "text": [
      "8\n",
      "inf\n",
      "1e+308\n"
     ]
    }
   ],
   "source": [
    "#Integer\n",
    "print(8)\n",
    "print(1e309)\n",
    "print(1e308)"
   ]
  },
  {
   "cell_type": "code",
   "execution_count": 12,
   "id": "5114aff3-5cc3-4c0a-b53a-bf02d3369b69",
   "metadata": {},
   "outputs": [
    {
     "name": "stdout",
     "output_type": "stream",
     "text": [
      "8.55\n",
      "1.7e+308\n",
      "inf\n"
     ]
    }
   ],
   "source": [
    "#Decimal/Float\n",
    "print(8.55)\n",
    "print(1.7e308)\n",
    "print(1.7e309)\n"
   ]
  },
  {
   "cell_type": "code",
   "execution_count": 13,
   "id": "1945bb8a-15bd-47cb-a416-c6de856031ec",
   "metadata": {},
   "outputs": [
    {
     "name": "stdout",
     "output_type": "stream",
     "text": [
      "True\n",
      "False\n"
     ]
    }
   ],
   "source": [
    "#Boolean (True/False)\n",
    "print(True)\n",
    "print(False)"
   ]
  },
  {
   "cell_type": "code",
   "execution_count": 14,
   "id": "3e7fdbdd-80ca-474b-aa76-e147cc2bcca6",
   "metadata": {},
   "outputs": [
    {
     "name": "stdout",
     "output_type": "stream",
     "text": [
      "Hello World\n"
     ]
    }
   ],
   "source": [
    "#Text/String\n",
    "print('Hello World')"
   ]
  },
  {
   "cell_type": "code",
   "execution_count": 15,
   "id": "7a4b1373-b23f-4f30-936f-225951bd1b82",
   "metadata": {},
   "outputs": [
    {
     "name": "stdout",
     "output_type": "stream",
     "text": [
      "(5+6j)\n"
     ]
    }
   ],
   "source": [
    "#Complex\n",
    "print(5+6j)"
   ]
  },
  {
   "cell_type": "code",
   "execution_count": 16,
   "id": "683ac01e-e744-4f56-a800-c11055e3b430",
   "metadata": {},
   "outputs": [
    {
     "name": "stdout",
     "output_type": "stream",
     "text": [
      "[1, 2, 3, 4]\n"
     ]
    }
   ],
   "source": [
    "#List\n",
    "print([1,2,3,4])"
   ]
  },
  {
   "cell_type": "code",
   "execution_count": 17,
   "id": "59414044-defd-479e-9a22-1cc1d1e88a82",
   "metadata": {},
   "outputs": [
    {
     "name": "stdout",
     "output_type": "stream",
     "text": [
      "{1, 2, 3}\n"
     ]
    }
   ],
   "source": [
    "#Set\n",
    "print({1,2,3})"
   ]
  },
  {
   "cell_type": "code",
   "execution_count": 18,
   "id": "1ef3349f-98aa-41b2-9089-6790255228db",
   "metadata": {},
   "outputs": [
    {
     "name": "stdout",
     "output_type": "stream",
     "text": [
      "(1, 2, 3, 4)\n"
     ]
    }
   ],
   "source": [
    "#Tuple\n",
    "print((1,2,3,4))"
   ]
  },
  {
   "cell_type": "code",
   "execution_count": 19,
   "id": "91cca1eb-4a02-44a7-94e0-b867c85b690d",
   "metadata": {},
   "outputs": [
    {
     "name": "stdout",
     "output_type": "stream",
     "text": [
      "{'name': 'apurva', 'rollno': '7'}\n"
     ]
    }
   ],
   "source": [
    "#Dictionary\n",
    "print({'name':'apurva', 'rollno':'7'})"
   ]
  },
  {
   "cell_type": "markdown",
   "id": "a583e502-1602-495b-937f-bee3ca2adc8a",
   "metadata": {},
   "source": [
    "3. Type of Data"
   ]
  },
  {
   "cell_type": "code",
   "execution_count": 20,
   "id": "d32b8c31-a421-4aa4-b6ab-bb98139cb4ef",
   "metadata": {},
   "outputs": [
    {
     "name": "stdout",
     "output_type": "stream",
     "text": [
      "<class 'int'>\n"
     ]
    }
   ],
   "source": [
    "print(type(5))"
   ]
  },
  {
   "cell_type": "code",
   "execution_count": 21,
   "id": "ef9daff4-b82f-4d5a-89f9-16f873db9bf9",
   "metadata": {},
   "outputs": [
    {
     "name": "stdout",
     "output_type": "stream",
     "text": [
      "<class 'str'>\n"
     ]
    }
   ],
   "source": [
    "print(type('apurva'))"
   ]
  },
  {
   "cell_type": "markdown",
   "id": "3367e136-38dd-4157-8330-9194a0831cfd",
   "metadata": {},
   "source": [
    "4. Variables"
   ]
  },
  {
   "cell_type": "code",
   "execution_count": null,
   "id": "d6a5da6f-414c-46a6-b31f-b0763373a8e7",
   "metadata": {},
   "outputs": [],
   "source": [
    "# C/ C++/ Java- Static Typing\n",
    "String name= 'nitish'  "
   ]
  },
  {
   "cell_type": "code",
   "execution_count": 27,
   "id": "7031069c-c02a-487d-806e-55ad79f1e898",
   "metadata": {},
   "outputs": [
    {
     "name": "stdout",
     "output_type": "stream",
     "text": [
      "apurva\n",
      "9\n"
     ]
    }
   ],
   "source": [
    "#Python - Dynamic Typing\n",
    "name= 'apurva'\n",
    "print(name)\n",
    "\n",
    "a=6\n",
    "b=3\n",
    "print(a+b)"
   ]
  },
  {
   "cell_type": "code",
   "execution_count": 29,
   "id": "d95ae31f-4363-4d8a-8ba4-be13bf958ed5",
   "metadata": {},
   "outputs": [
    {
     "name": "stdout",
     "output_type": "stream",
     "text": [
      "5\n",
      "a\n"
     ]
    }
   ],
   "source": [
    "#Dynamic Binding - This will work in python\n",
    "a=5\n",
    "print(a)\n",
    "\n",
    "a='a'\n",
    "print(a)"
   ]
  },
  {
   "cell_type": "code",
   "execution_count": null,
   "id": "629f4728-d97c-4b72-8809-e79109fad3fd",
   "metadata": {},
   "outputs": [],
   "source": [
    "# Static Binding - This works in C/ C++/ Java\n",
    "int a=5\n",
    "a=10\n",
    "a=5.5 #this will throw error"
   ]
  },
  {
   "cell_type": "markdown",
   "id": "da72c632-fd75-4e3f-bf93-c4d1abdc4ce9",
   "metadata": {},
   "source": [
    "5. Stylish Declaration"
   ]
  },
  {
   "cell_type": "code",
   "execution_count": 30,
   "id": "9d4f2ecc-8477-4c6b-bf83-78da09f3b298",
   "metadata": {},
   "outputs": [
    {
     "name": "stdout",
     "output_type": "stream",
     "text": [
      "1 2 3\n"
     ]
    }
   ],
   "source": [
    "a=1\n",
    "b=2\n",
    "c=3\n",
    "print(a,b,c)"
   ]
  },
  {
   "cell_type": "code",
   "execution_count": 31,
   "id": "d12118a0-5d98-47c6-998b-9d8c8697c03e",
   "metadata": {},
   "outputs": [
    {
     "name": "stdout",
     "output_type": "stream",
     "text": [
      "1 2 3\n"
     ]
    }
   ],
   "source": [
    "a,b,c= 1,2,3\n",
    "print(a,b,c)"
   ]
  },
  {
   "cell_type": "code",
   "execution_count": 32,
   "id": "0ccd4d15-fa56-49a3-af73-8bf12f4663c0",
   "metadata": {},
   "outputs": [
    {
     "name": "stdout",
     "output_type": "stream",
     "text": [
      "5 5 5\n"
     ]
    }
   ],
   "source": [
    "a=b=c=5\n",
    "print(a,b,c)"
   ]
  },
  {
   "cell_type": "markdown",
   "id": "0b922c5a-829e-40c2-888d-5d777f25ea61",
   "metadata": {},
   "source": [
    "6. Keywords and Identifiers"
   ]
  },
  {
   "cell_type": "code",
   "execution_count": 33,
   "id": "3cfa6f88-cd29-4622-be27-883951c20d36",
   "metadata": {},
   "outputs": [],
   "source": [
    "#Keywords: False, nonlocal, while,assert, del, global, not, with, async, elif, if, or, yield, await, else, import, pass ,None, break, except, in, raise, True, class ,finally, is, return , and, continue, for ,lambda, try, as ,def, from"
   ]
  },
  {
   "cell_type": "code",
   "execution_count": 34,
   "id": "89f7a3d2-f35a-4b5c-9dfd-a22674610819",
   "metadata": {},
   "outputs": [],
   "source": [
    "#Identifiers"
   ]
  },
  {
   "cell_type": "code",
   "execution_count": 35,
   "id": "3a1440d3-17c0-4b1f-b455-d0b67b7d8a30",
   "metadata": {},
   "outputs": [
    {
     "name": "stdout",
     "output_type": "stream",
     "text": [
      "nitish\n"
     ]
    }
   ],
   "source": [
    "# 1name will give error\n",
    "name1= 'nitish'\n",
    "print(name1)\n"
   ]
  },
  {
   "cell_type": "code",
   "execution_count": 36,
   "id": "1b459b15-692b-47cb-a5db-08792eac19fd",
   "metadata": {},
   "outputs": [
    {
     "name": "stdout",
     "output_type": "stream",
     "text": [
      "apurva\n"
     ]
    }
   ],
   "source": [
    "#first-name will give error\n",
    "first_name= 'apurva'\n",
    "print(first_name)"
   ]
  },
  {
   "cell_type": "code",
   "execution_count": 37,
   "id": "6af07564-aed1-4200-a869-ed90d36f729a",
   "metadata": {},
   "outputs": [
    {
     "name": "stdout",
     "output_type": "stream",
     "text": [
      "s\n"
     ]
    }
   ],
   "source": [
    "_= 's'\n",
    "print(_)"
   ]
  },
  {
   "cell_type": "markdown",
   "id": "8b8ee653-de37-4b66-8a3d-58da6140d5b8",
   "metadata": {},
   "source": [
    "7. User Input"
   ]
  },
  {
   "cell_type": "code",
   "execution_count": 38,
   "id": "a5381eaf-5a3d-4267-a9c7-92ea23f41fb6",
   "metadata": {},
   "outputs": [
    {
     "name": "stdin",
     "output_type": "stream",
     "text": [
      "What is your name? apurva\n"
     ]
    },
    {
     "data": {
      "text/plain": [
       "'apurva'"
      ]
     },
     "execution_count": 38,
     "metadata": {},
     "output_type": "execute_result"
    }
   ],
   "source": [
    "input(\"What is your name?\" )"
   ]
  },
  {
   "cell_type": "markdown",
   "id": "253c3253-eb77-4d47-9ba7-23fa527a4c01",
   "metadata": {},
   "source": [
    "First Program"
   ]
  },
  {
   "cell_type": "code",
   "execution_count": 39,
   "id": "324c58c0-1ff7-499d-bb46-36a1ba7d7857",
   "metadata": {},
   "outputs": [],
   "source": [
    "#Addition of two numbers\n",
    "#1.First take two numbers and assign them to two variables\n",
    "#2.Make third variable and store result in it\n",
    "#3.Print the result"
   ]
  },
  {
   "cell_type": "code",
   "execution_count": 40,
   "id": "2f1ff5ce-b14c-42f0-9d9e-02da2db6b01c",
   "metadata": {},
   "outputs": [
    {
     "name": "stdin",
     "output_type": "stream",
     "text": [
      "Enter first number:  4\n",
      "Enter second number:  2\n"
     ]
    },
    {
     "name": "stdout",
     "output_type": "stream",
     "text": [
      "<class 'str'> <class 'str'>\n",
      "42\n"
     ]
    }
   ],
   "source": [
    "fnum= input(\"Enter first number: \")\n",
    "snum= input(\"Enter second number: \")\n",
    "print(type(fnum), type(snum))\n",
    "\n",
    "result= fnum + snum\n",
    "print(result)\n"
   ]
  },
  {
   "cell_type": "code",
   "execution_count": 41,
   "id": "6903516f-8563-454c-872c-93ae27b16a51",
   "metadata": {},
   "outputs": [],
   "source": [
    "#The above program gives wrong answer as the universal data type is string so"
   ]
  },
  {
   "cell_type": "markdown",
   "id": "73217fec-e7f1-498d-9aae-a6f9c1b813fd",
   "metadata": {},
   "source": [
    "7. Type Conversion"
   ]
  },
  {
   "cell_type": "code",
   "execution_count": 44,
   "id": "b8a9a65e-0a18-4917-a5c3-36d0a2b0c74c",
   "metadata": {},
   "outputs": [
    {
     "name": "stdout",
     "output_type": "stream",
     "text": [
      "4.5\n"
     ]
    }
   ],
   "source": [
    "print(4 + 0.5)  # Implicit type conversion works here\n"
   ]
  },
  {
   "cell_type": "code",
   "execution_count": 45,
   "id": "9c273117-4191-4ad3-9c94-01e28208d67b",
   "metadata": {},
   "outputs": [
    {
     "name": "stdout",
     "output_type": "stream",
     "text": [
      "<class 'int'> <class 'float'>\n"
     ]
    }
   ],
   "source": [
    "print(type(4), type(0.5))"
   ]
  },
  {
   "cell_type": "code",
   "execution_count": 46,
   "id": "c76f87f9-9902-4371-996f-d2035966af59",
   "metadata": {},
   "outputs": [
    {
     "ename": "TypeError",
     "evalue": "unsupported operand type(s) for +: 'int' and 'str'",
     "output_type": "error",
     "traceback": [
      "\u001b[1;31m---------------------------------------------------------------------------\u001b[0m",
      "\u001b[1;31mTypeError\u001b[0m                                 Traceback (most recent call last)",
      "Cell \u001b[1;32mIn[46], line 1\u001b[0m\n\u001b[1;32m----> 1\u001b[0m \u001b[38;5;28mprint\u001b[39m (\u001b[38;5;241;43m4\u001b[39;49m\u001b[43m \u001b[49m\u001b[38;5;241;43m+\u001b[39;49m\u001b[43m \u001b[49m\u001b[38;5;124;43m'\u001b[39;49m\u001b[38;5;124;43m6\u001b[39;49m\u001b[38;5;124;43m'\u001b[39;49m) \u001b[38;5;66;03m#It will give error here\u001b[39;00m\n",
      "\u001b[1;31mTypeError\u001b[0m: unsupported operand type(s) for +: 'int' and 'str'"
     ]
    }
   ],
   "source": [
    "print (4 + '6') #It will give error here"
   ]
  },
  {
   "cell_type": "code",
   "execution_count": 48,
   "id": "674871dd-8166-412a-95ad-5bc388659eb4",
   "metadata": {},
   "outputs": [
    {
     "name": "stdout",
     "output_type": "stream",
     "text": [
      "2\n"
     ]
    }
   ],
   "source": [
    "#Converting string to int using explicit type conversion\n",
    "a= int('2')\n",
    "print(a)"
   ]
  },
  {
   "cell_type": "code",
   "execution_count": 49,
   "id": "e33c891c-6e9c-4cd8-bfbe-7c3875a0c867",
   "metadata": {},
   "outputs": [
    {
     "data": {
      "text/plain": [
       "int"
      ]
     },
     "execution_count": 49,
     "metadata": {},
     "output_type": "execute_result"
    }
   ],
   "source": [
    "type(a)"
   ]
  },
  {
   "cell_type": "code",
   "execution_count": 50,
   "id": "f3c93dc5-df48-4532-9521-2dd9de9ea6df",
   "metadata": {},
   "outputs": [
    {
     "data": {
      "text/plain": [
       "4"
      ]
     },
     "execution_count": 50,
     "metadata": {},
     "output_type": "execute_result"
    }
   ],
   "source": [
    "#1. Float to Int\n",
    "int(4.5)"
   ]
  },
  {
   "cell_type": "code",
   "execution_count": 51,
   "id": "1edb326e-c3ca-4738-898f-1912ebd25a84",
   "metadata": {},
   "outputs": [
    {
     "data": {
      "text/plain": [
       "'5'"
      ]
     },
     "execution_count": 51,
     "metadata": {},
     "output_type": "execute_result"
    }
   ],
   "source": [
    "#2. Int to str\n",
    "str(5)"
   ]
  },
  {
   "cell_type": "code",
   "execution_count": 52,
   "id": "a590dbd0-4b33-4abc-a7b1-8867d950027e",
   "metadata": {},
   "outputs": [
    {
     "data": {
      "text/plain": [
       "4.0"
      ]
     },
     "execution_count": 52,
     "metadata": {},
     "output_type": "execute_result"
    }
   ],
   "source": [
    "#3. Int to float\n",
    "float(4)"
   ]
  },
  {
   "cell_type": "markdown",
   "id": "9194ad4c-e0b0-4a61-b3e2-a1412237b0be",
   "metadata": {},
   "source": [
    "Solution"
   ]
  },
  {
   "cell_type": "code",
   "execution_count": 55,
   "id": "5b8352e1-b673-4833-aa17-ff06c916867b",
   "metadata": {},
   "outputs": [
    {
     "name": "stdin",
     "output_type": "stream",
     "text": [
      "Enter first number:  2\n",
      "Enter second number:  4\n"
     ]
    },
    {
     "name": "stdout",
     "output_type": "stream",
     "text": [
      "<class 'str'> <class 'str'>\n",
      "<class 'str'>\n",
      "6\n",
      "<class 'int'>\n"
     ]
    }
   ],
   "source": [
    "fnum= input(\"Enter first number: \")\n",
    "snum= input(\"Enter second number: \")\n",
    "print(type(fnum), type(snum))\n",
    "\n",
    "result= int(fnum) + int(snum)\n",
    "print(type(fnum)) #I thought after conversion, it will be int, but it is not, because python do not make changes in the existing type of the variable, instead it just creates a new object of requested type \n",
    "print(result)\n",
    "print(type(result))"
   ]
  },
  {
   "cell_type": "code",
   "execution_count": 56,
   "id": "bc26d868-0bee-4546-ac50-048dacabcbd9",
   "metadata": {},
   "outputs": [
    {
     "name": "stdin",
     "output_type": "stream",
     "text": [
      "Enter first number:  2\n",
      "Enter second number:  4\n"
     ]
    },
    {
     "name": "stdout",
     "output_type": "stream",
     "text": [
      "<class 'int'> <class 'int'>\n",
      "<class 'int'>\n",
      "6\n",
      "<class 'int'>\n"
     ]
    }
   ],
   "source": [
    "fnum= int(input(\"Enter first number: \"))\n",
    "snum= int(input(\"Enter second number: \"))\n",
    "print(type(fnum), type(snum))\n",
    "\n",
    "result= fnum + snum\n",
    "print(type(fnum))  \n",
    "print(result)\n",
    "print(type(result))"
   ]
  },
  {
   "cell_type": "markdown",
   "id": "4749ebaf-e981-4080-896b-68f077270e0d",
   "metadata": {},
   "source": [
    "8. Literals"
   ]
  },
  {
   "cell_type": "code",
   "execution_count": 58,
   "id": "ea74868a-776f-4870-8907-0155f84470d1",
   "metadata": {},
   "outputs": [
    {
     "name": "stdout",
     "output_type": "stream",
     "text": [
      "10\n",
      "100\n",
      "200\n",
      "300\n"
     ]
    }
   ],
   "source": [
    "#Integer Literals\n",
    "a=0b1010\n",
    "print(a)\n",
    "\n",
    "b=100\n",
    "print(b)\n",
    "\n",
    "c=0o310\n",
    "print(c)\n",
    "\n",
    "d=0x12c\n",
    "print(d)"
   ]
  },
  {
   "cell_type": "code",
   "execution_count": 60,
   "id": "4e8a9986-c0ca-43c2-a9eb-6c3ad5689166",
   "metadata": {},
   "outputs": [
    {
     "name": "stdout",
     "output_type": "stream",
     "text": [
      "10.5 150.0 0.0015\n"
     ]
    }
   ],
   "source": [
    "#Float Literals\n",
    "float_1 = 10.5\n",
    "float_2 = 1.5e2\n",
    "float_3 = 1.5e-3\n",
    "print(float_1, float_2, float_3)"
   ]
  },
  {
   "cell_type": "code",
   "execution_count": 61,
   "id": "ef9d3138-f001-4e6a-916d-3bf271b10ccc",
   "metadata": {},
   "outputs": [
    {
     "name": "stdout",
     "output_type": "stream",
     "text": [
      "3.14j\n",
      "0.0 3.14\n"
     ]
    }
   ],
   "source": [
    "#Complex Literals\n",
    "x= 3.14j\n",
    "print(x)\n",
    "print(x.real, x.imag)"
   ]
  },
  {
   "cell_type": "code",
   "execution_count": 65,
   "id": "e970708a-6cd5-4114-bf17-a20c96f71488",
   "metadata": {},
   "outputs": [
    {
     "name": "stdout",
     "output_type": "stream",
     "text": [
      "This is python\n",
      "This is python\n",
      "C\n",
      "This is a multiline string with more than one line code.\n",
      "raw \\n string\n",
      "😀😆🤣\n"
     ]
    }
   ],
   "source": [
    "#String\n",
    "string= 'This is python'\n",
    "strings= \"This is python\"\n",
    "char = \"C\"\n",
    "multiline_str = \"\"\"This is a multiline string with more than one line code.\"\"\"\n",
    "raw_str= r\"raw \\n string\"\n",
    "unicode = \"\\U0001F600\\U0001F606\\U0001F923\"\n",
    "\n",
    "print(string)\n",
    "print(strings)\n",
    "print(char)\n",
    "print(multiline_str)\n",
    "print(raw_str)\n",
    "print(unicode)"
   ]
  },
  {
   "cell_type": "code",
   "execution_count": 67,
   "id": "61cd4338-203f-4897-b634-afd8e06de528",
   "metadata": {},
   "outputs": [
    {
     "name": "stdout",
     "output_type": "stream",
     "text": [
      "a: 5\n",
      "b: 10\n"
     ]
    }
   ],
   "source": [
    "#Boolean\n",
    "a= True +4\n",
    "b= False + 10\n",
    "print(\"a:\" ,a)\n",
    "print(\"b:\" ,b)"
   ]
  },
  {
   "cell_type": "code",
   "execution_count": 68,
   "id": "046a3a63-9b5a-42dc-95f1-fa094d9b7284",
   "metadata": {},
   "outputs": [
    {
     "name": "stdout",
     "output_type": "stream",
     "text": [
      "None\n"
     ]
    }
   ],
   "source": [
    "#None\n",
    "a= None\n",
    "print(a)"
   ]
  },
  {
   "cell_type": "code",
   "execution_count": null,
   "id": "0c49c661-96c4-41a4-b5b7-5d23b38c423e",
   "metadata": {},
   "outputs": [],
   "source": [
    "k\n",
    "a=5\n",
    "b=6\n",
    "print('Program exe')\n",
    "#This will through an error as k not be declared like that so we should use k= None"
   ]
  }
 ],
 "metadata": {
  "kernelspec": {
   "display_name": "Python 3 (ipykernel)",
   "language": "python",
   "name": "python3"
  },
  "language_info": {
   "codemirror_mode": {
    "name": "ipython",
    "version": 3
   },
   "file_extension": ".py",
   "mimetype": "text/x-python",
   "name": "python",
   "nbconvert_exporter": "python",
   "pygments_lexer": "ipython3",
   "version": "3.11.7"
  }
 },
 "nbformat": 4,
 "nbformat_minor": 5
}
