{
 "cells": [
  {
   "cell_type": "code",
   "execution_count": 1,
   "id": "ec83b8aa-8622-4bff-86de-7874f8bb9b7e",
   "metadata": {},
   "outputs": [],
   "source": [
    "#Extra Examples of Loops"
   ]
  },
  {
   "cell_type": "code",
   "execution_count": 4,
   "id": "8816b584-0f00-4113-bc9c-37ec83d36054",
   "metadata": {},
   "outputs": [
    {
     "name": "stdin",
     "output_type": "stream",
     "text": [
      "Enter the number:  3\n"
     ]
    },
    {
     "name": "stdout",
     "output_type": "stream",
     "text": [
      "2.5\n"
     ]
    }
   ],
   "source": [
    "# 1/1! + 2/2! +3/3!+ ....n = ?\n",
    "n= int(input(\"Enter the number: \"))\n",
    "result=0\n",
    "fact = 1\n",
    "for i in range (1, n+1):\n",
    "    fact= fact * i\n",
    "    result= result + i/fact\n",
    "print(result)"
   ]
  },
  {
   "cell_type": "markdown",
   "id": "21ac9ffc-90c5-46d3-9a4b-5cfa8fb938d5",
   "metadata": {},
   "source": [
    "1. Nested Loops"
   ]
  },
  {
   "cell_type": "code",
   "execution_count": 5,
   "id": "a36d6df0-b82b-4ef4-bf8e-253c0a5acb0a",
   "metadata": {},
   "outputs": [
    {
     "name": "stdout",
     "output_type": "stream",
     "text": [
      "1 1\n",
      "1 2\n",
      "1 3\n",
      "2 1\n",
      "2 2\n",
      "2 3\n",
      "3 1\n",
      "3 2\n",
      "3 3\n"
     ]
    }
   ],
   "source": [
    "#Nested Loops\n",
    "\n",
    "for i in range(1, n+1):\n",
    "    for j in range(1, n+1):\n",
    "        print(i,j)"
   ]
  },
  {
   "cell_type": "code",
   "execution_count": 15,
   "id": "b1f9dc1b-0ee6-4653-9a5c-9e60e4f227b5",
   "metadata": {},
   "outputs": [
    {
     "name": "stdin",
     "output_type": "stream",
     "text": [
      "Enter the rows:  3\n"
     ]
    },
    {
     "name": "stdout",
     "output_type": "stream",
     "text": [
      "*\n",
      "**\n",
      "***\n"
     ]
    }
   ],
   "source": [
    "#Patterns\n",
    "# *\n",
    "# **\n",
    "# ***\n",
    "n= int(input(\"Enter the rows: \"))\n",
    "for i in range(1, n+1):\n",
    "    for j in range(1, i+1):\n",
    "        print('*', end='')\n",
    "    print()\n",
    "   \n",
    "    "
   ]
  },
  {
   "cell_type": "code",
   "execution_count": 1,
   "id": "b406aacb-77b4-4f74-9b1d-38d15b87e477",
   "metadata": {},
   "outputs": [
    {
     "name": "stdin",
     "output_type": "stream",
     "text": [
      "Enter the rows:  4\n"
     ]
    },
    {
     "name": "stdout",
     "output_type": "stream",
     "text": [
      "1\n",
      "121\n",
      "12321\n",
      "1234321\n"
     ]
    }
   ],
   "source": [
    "n = int(input(\"Enter the rows: \"))\n",
    "for i in range(1, n+1):\n",
    "    for j in range(1, i+1):\n",
    "        print(j, end=\"\")\n",
    "    for k in range(i-1, 0, -1):\n",
    "        print(k, end=\"\")\n",
    "    print() \n"
   ]
  },
  {
   "cell_type": "markdown",
   "id": "f0b91395-56da-4190-bc0d-1ed8962a5af1",
   "metadata": {},
   "source": [
    "2. Loop Control Statements"
   ]
  },
  {
   "cell_type": "code",
   "execution_count": 4,
   "id": "acb1b126-6e37-4c9a-94ad-5d675edd2518",
   "metadata": {},
   "outputs": [
    {
     "name": "stdout",
     "output_type": "stream",
     "text": [
      "1\n",
      "2\n",
      "3\n",
      "4\n"
     ]
    }
   ],
   "source": [
    "# Break Statement\n",
    "\n",
    "for i in range(1, 10):\n",
    "    if i== 5:\n",
    "        break\n",
    "    print(i)"
   ]
  },
  {
   "cell_type": "code",
   "execution_count": 8,
   "id": "3557c1ba-75ff-41e0-8b7f-5c4cca00afda",
   "metadata": {},
   "outputs": [
    {
     "name": "stdin",
     "output_type": "stream",
     "text": [
      "Enter the number:  10\n",
      "Enter the number:  20\n"
     ]
    },
    {
     "name": "stdout",
     "output_type": "stream",
     "text": [
      "11\n",
      "13\n",
      "17\n",
      "19\n"
     ]
    }
   ],
   "source": [
    "# break statement in finding out the prime numbers in the given range\n",
    "\n",
    "m= int(input(\"Enter the number: \"))\n",
    "n= int(input(\"Enter the number: \"))\n",
    "\n",
    "for i in range(m, n+1):\n",
    "    for j in range(2, i):\n",
    "        if i%j ==0:\n",
    "            break\n",
    "    else:\n",
    "            print(i)"
   ]
  },
  {
   "cell_type": "code",
   "execution_count": 10,
   "id": "37177079-923a-4e62-b875-1cc41c70e863",
   "metadata": {},
   "outputs": [
    {
     "name": "stdout",
     "output_type": "stream",
     "text": [
      "1\n",
      "2\n",
      "3\n",
      "4\n",
      "6\n",
      "7\n",
      "8\n",
      "9\n"
     ]
    }
   ],
   "source": [
    "# Continue Statement\n",
    "\n",
    "for i in range(1, 10):\n",
    "    if i==5:\n",
    "        continue\n",
    "    print(i)\n"
   ]
  },
  {
   "cell_type": "code",
   "execution_count": 1,
   "id": "dfaf8271-262b-45b0-a323-7a4f1cc18b39",
   "metadata": {},
   "outputs": [
    {
     "name": "stdout",
     "output_type": "stream",
     "text": [
      "0\n",
      "1\n",
      "2\n",
      "4\n"
     ]
    }
   ],
   "source": [
    "#Pass Statement\n",
    "for i in range(5):\n",
    "    if i==3:\n",
    "        pass # do nothing\n",
    "    else:\n",
    "        print(i)"
   ]
  },
  {
   "cell_type": "code",
   "execution_count": 2,
   "id": "56404b7c-e13b-42c9-956f-4f184e036558",
   "metadata": {},
   "outputs": [],
   "source": [
    "def function1():\n",
    "    pass # i will write this function later"
   ]
  },
  {
   "cell_type": "markdown",
   "id": "6319114e-4f4e-4df6-b1ca-a621da3446bb",
   "metadata": {},
   "source": [
    "3. Strings"
   ]
  },
  {
   "cell_type": "code",
   "execution_count": 3,
   "id": "cbca1d2b-f9cc-42ed-ad89-978a6739437b",
   "metadata": {},
   "outputs": [],
   "source": [
    "#In python, strings are sequence of unicode characters"
   ]
  },
  {
   "cell_type": "code",
   "execution_count": 4,
   "id": "9e802ff4-98ed-47fd-b9ff-b9bb94e3c0e9",
   "metadata": {},
   "outputs": [
    {
     "name": "stdout",
     "output_type": "stream",
     "text": [
      "65\n",
      "128522\n"
     ]
    }
   ],
   "source": [
    "print(ord('A'))\n",
    "print(ord('😊'))"
   ]
  },
  {
   "cell_type": "markdown",
   "id": "d48f3935-ae69-4691-a045-c85bd3d02607",
   "metadata": {},
   "source": [
    "a) Creating Strings"
   ]
  },
  {
   "cell_type": "code",
   "execution_count": 8,
   "id": "055889c9-8fb9-44f3-a961-48fb956108b0",
   "metadata": {},
   "outputs": [
    {
     "name": "stdout",
     "output_type": "stream",
     "text": [
      "hello\n",
      "hii\n",
      "This is apurva.\n",
      "Nice to meet you!\n",
      "hello\n"
     ]
    }
   ],
   "source": [
    "s='hello'\n",
    "print(s)\n",
    "s=\"hii\"\n",
    "print(s)\n",
    "s='''This is apurva.\n",
    "Nice to meet you!'''\n",
    "print(s)\n",
    "s= str('hello')\n",
    "print(s)"
   ]
  },
  {
   "cell_type": "markdown",
   "id": "2c750049-6534-4a1a-a5dd-1aecc75f7073",
   "metadata": {},
   "source": [
    "b) Accessing substrings from a string"
   ]
  },
  {
   "cell_type": "markdown",
   "id": "8b9a7c6f-fb2d-4d14-8594-fa5b3e325411",
   "metadata": {},
   "source": [
    "#Positive Indexing (L -> R)\n",
    "s='hello world'\n",
    "print(s[4])"
   ]
  },
  {
   "cell_type": "code",
   "execution_count": null,
   "id": "71743734-63c1-43b0-b299-8335d7e92caa",
   "metadata": {},
   "outputs": [],
   "source": [
    "print(s[14]) # this will throw error, because the index ends early"
   ]
  },
  {
   "cell_type": "code",
   "execution_count": 10,
   "id": "2a260640-c07b-48b0-8b66-5e2b9a1af754",
   "metadata": {},
   "outputs": [
    {
     "name": "stdout",
     "output_type": "stream",
     "text": [
      "r\n"
     ]
    }
   ],
   "source": [
    "#Negative Indexing (R -> L)\n",
    "s='hello world'\n",
    "print(s[-3])"
   ]
  },
  {
   "cell_type": "code",
   "execution_count": 11,
   "id": "c469d139-e51b-451c-95af-bf26f59da254",
   "metadata": {},
   "outputs": [
    {
     "name": "stdout",
     "output_type": "stream",
     "text": [
      "hello\n"
     ]
    }
   ],
   "source": [
    "#Slicing\n",
    "s='hello world'\n",
    "print(s[0:5]) # 5 is excluded, till 4"
   ]
  },
  {
   "cell_type": "code",
   "execution_count": 12,
   "id": "61558f4d-b1a2-43bc-b9c6-0b077bd815d1",
   "metadata": {},
   "outputs": [
    {
     "name": "stdout",
     "output_type": "stream",
     "text": [
      "l\n"
     ]
    }
   ],
   "source": [
    "s='hello'\n",
    "print(s[2:3])"
   ]
  },
  {
   "cell_type": "code",
   "execution_count": 13,
   "id": "afcc926e-4e80-47b7-97d1-a5ee889b57bd",
   "metadata": {},
   "outputs": [
    {
     "name": "stdout",
     "output_type": "stream",
     "text": [
      "hello world\n"
     ]
    }
   ],
   "source": [
    "#Very Important\n",
    "s='hello world'\n",
    "print(s[:])"
   ]
  },
  {
   "cell_type": "code",
   "execution_count": 14,
   "id": "6cac86b4-920f-4e68-bdf4-f55606480018",
   "metadata": {},
   "outputs": [
    {
     "name": "stdout",
     "output_type": "stream",
     "text": [
      "dlrow olleh\n"
     ]
    }
   ],
   "source": [
    "#Easy way to reverse a string faster\n",
    "print(s[::-1])"
   ]
  },
  {
   "cell_type": "code",
   "execution_count": 16,
   "id": "0c7cb768-53e6-4281-bd85-bcd1c94045d3",
   "metadata": {},
   "outputs": [
    {
     "name": "stdout",
     "output_type": "stream",
     "text": [
      "hlo\n",
      "w olle\n",
      "world\n"
     ]
    }
   ],
   "source": [
    "print(s[0:6:2])\n",
    "print(s[6:0:-1])\n",
    "print(s[-5:])"
   ]
  },
  {
   "cell_type": "code",
   "execution_count": 17,
   "id": "0222117a-c431-47ad-be48-9058ea7f8569",
   "metadata": {},
   "outputs": [
    {
     "name": "stdout",
     "output_type": "stream",
     "text": [
      "dlrow\n"
     ]
    }
   ],
   "source": [
    "s='hello world'\n",
    "print(s[-1:-6:-1])"
   ]
  },
  {
   "cell_type": "markdown",
   "id": "3190b6e0-ec0c-42f2-a555-9efdaf001b9f",
   "metadata": {},
   "source": [
    "c) Editing and Deleting in Strings"
   ]
  },
  {
   "cell_type": "code",
   "execution_count": null,
   "id": "b2784fda-6f79-421e-b898-85f9af15d75a",
   "metadata": {},
   "outputs": [],
   "source": [
    "s='hello world'\n",
    "s[0]= 'H'  # this whole will throw the error, bc python strings are immutable"
   ]
  },
  {
   "cell_type": "code",
   "execution_count": 20,
   "id": "9b5dd442-39b3-4168-a94a-aa64120dcdaf",
   "metadata": {},
   "outputs": [
    {
     "ename": "NameError",
     "evalue": "name 's' is not defined",
     "output_type": "error",
     "traceback": [
      "\u001b[1;31m---------------------------------------------------------------------------\u001b[0m",
      "\u001b[1;31mNameError\u001b[0m                                 Traceback (most recent call last)",
      "Cell \u001b[1;32mIn[20], line 3\u001b[0m\n\u001b[0;32m      1\u001b[0m s\u001b[38;5;241m=\u001b[39m\u001b[38;5;124m'\u001b[39m\u001b[38;5;124mhello world\u001b[39m\u001b[38;5;124m'\u001b[39m\n\u001b[0;32m      2\u001b[0m \u001b[38;5;28;01mdel\u001b[39;00m s\n\u001b[1;32m----> 3\u001b[0m \u001b[38;5;28mprint\u001b[39m(\u001b[43ms\u001b[49m)\n",
      "\u001b[1;31mNameError\u001b[0m: name 's' is not defined"
     ]
    }
   ],
   "source": [
    "s='hello world'\n",
    "del s\n",
    "print(s)"
   ]
  },
  {
   "cell_type": "markdown",
   "id": "7ffcbdaa-a6c1-47ac-9772-d80de7a30c2f",
   "metadata": {},
   "source": [
    "# Important Case\n",
    "#Here the string cannot be deleted partially\n",
    "s= 'hello world'\n",
    "del s[-1:-5:2]\n",
    "print(s)"
   ]
  },
  {
   "cell_type": "markdown",
   "id": "9f484539-7f3d-4674-a6ae-4eb11f9ee49b",
   "metadata": {},
   "source": [
    "d) Operations on Strings\n"
   ]
  },
  {
   "cell_type": "code",
   "execution_count": 28,
   "id": "b56e4e6c-d5f1-4364-8fce-c31d89ffc63e",
   "metadata": {},
   "outputs": [
    {
     "name": "stdout",
     "output_type": "stream",
     "text": [
      "delhi mumbai\n",
      "delhidelhidelhidelhidelhi\n",
      "**************************************************\n"
     ]
    }
   ],
   "source": [
    "#Arithmetic Operations\n",
    "print('delhi'+ ' '+ 'mumbai')\n",
    "print('delhi'*5)\n",
    "print(\"*\"*50)"
   ]
  },
  {
   "cell_type": "code",
   "execution_count": 29,
   "id": "98bec97a-bb94-4cf4-b311-072edfdb6657",
   "metadata": {},
   "outputs": [
    {
     "name": "stdout",
     "output_type": "stream",
     "text": [
      "False\n",
      "True\n",
      "False\n"
     ]
    }
   ],
   "source": [
    "#Realtional Operators\n",
    "print('delhi' == 'mumbai')\n",
    "print('delhi' == 'delhi')\n",
    "print('delhi' != 'delhi')"
   ]
  },
  {
   "cell_type": "code",
   "execution_count": 30,
   "id": "dc0671f8-8823-4cb2-b320-3c3ee3310e76",
   "metadata": {},
   "outputs": [
    {
     "name": "stdout",
     "output_type": "stream",
     "text": [
      "False\n",
      "False\n"
     ]
    }
   ],
   "source": [
    "# Relational Operators\n",
    "print('mumbai' > 'pune')\n",
    "print('Pune' > 'pune')\n",
    "# Python compares strings lexicographically (like dictionary order).\n",
    "#'mumbai' > 'pune' → False (because 'm' (109) is less than 'p' (112))\n",
    "#'Pune' > 'pune' → False (because 'P' (80) is less than 'p' (112))"
   ]
  },
  {
   "cell_type": "code",
   "execution_count": 31,
   "id": "c80fd454-5819-4b6a-89f2-7cad7d25f230",
   "metadata": {},
   "outputs": [
    {
     "name": "stdout",
     "output_type": "stream",
     "text": [
      "world\n",
      "hello\n",
      "\n",
      "world\n"
     ]
    }
   ],
   "source": [
    "# Logical Operators\n",
    "# Empty String is False here and Occupied String is True\n",
    "print('hello' and 'world')\n",
    "print('hello' or 'world')\n",
    "print('' and 'hello')\n",
    "print('' or 'world')"
   ]
  },
  {
   "cell_type": "code",
   "execution_count": 1,
   "id": "e0bd0992-2615-43a6-9a77-d6fe51eb7e33",
   "metadata": {},
   "outputs": [
    {
     "name": "stdout",
     "output_type": "stream",
     "text": [
      "False\n",
      "True\n"
     ]
    }
   ],
   "source": [
    "print(not 'hello')\n",
    "print(not '')"
   ]
  },
  {
   "cell_type": "code",
   "execution_count": 2,
   "id": "285bfdfe-231c-45c5-8384-d62b0c58ff3a",
   "metadata": {},
   "outputs": [
    {
     "name": "stdout",
     "output_type": "stream",
     "text": [
      "pune\n",
      "pune\n",
      "pune\n",
      "pune\n",
      "pune\n"
     ]
    }
   ],
   "source": [
    "#Loops on Strings\n",
    "for i in 'delhi':\n",
    "    print('pune')"
   ]
  },
  {
   "cell_type": "code",
   "execution_count": 3,
   "id": "f7545592-b996-49e4-b81d-a02661164f1c",
   "metadata": {},
   "outputs": [
    {
     "name": "stdout",
     "output_type": "stream",
     "text": [
      "h\n",
      "e\n",
      "l\n",
      "l\n",
      "o\n"
     ]
    }
   ],
   "source": [
    "for i in 'hello':\n",
    "    print(i)"
   ]
  },
  {
   "cell_type": "code",
   "execution_count": 4,
   "id": "92caddfb-8d42-4aa1-8893-c3c272e40963",
   "metadata": {},
   "outputs": [
    {
     "name": "stdout",
     "output_type": "stream",
     "text": [
      "True\n",
      "False\n"
     ]
    }
   ],
   "source": [
    "#Membership Operators\n",
    "text = \"hello world\"\n",
    "\n",
    "print(\"hello\" in text)      # True (because \"hello\" exists in text)\n",
    "print(\"python\" in text)"
   ]
  },
  {
   "cell_type": "code",
   "execution_count": 6,
   "id": "b3447db8-430b-4a68-a7c3-36395e737ac6",
   "metadata": {},
   "outputs": [
    {
     "name": "stdout",
     "output_type": "stream",
     "text": [
      "11\n",
      "w\n",
      " \n",
      "[' ', 'd', 'e', 'h', 'l', 'l', 'l', 'o', 'o', 'r', 'w']\n",
      "['w', 'r', 'o', 'o', 'l', 'l', 'l', 'h', 'e', 'd', ' ']\n"
     ]
    }
   ],
   "source": [
    "#Common Functions\n",
    "\n",
    "print(len('hello world'))\n",
    "print(max('hello world'))\n",
    "print(min('hello world'))\n",
    "print(sorted('hello world'))\n",
    "print(sorted('hello world', reverse= True))"
   ]
  },
  {
   "cell_type": "code",
   "execution_count": 7,
   "id": "55c7c140-06b5-4316-a388-8a772abeb5b4",
   "metadata": {},
   "outputs": [
    {
     "name": "stdout",
     "output_type": "stream",
     "text": [
      "Hello world\n",
      "Hello World\n",
      "HELLO WORLD\n",
      "hello world\n"
     ]
    }
   ],
   "source": [
    "#String Specific Functions\n",
    "\n",
    "s='hello world'\n",
    "print(s.capitalize())\n",
    "print(s.title())\n",
    "print(s.upper())\n",
    "print(s.lower())\n"
   ]
  },
  {
   "cell_type": "code",
   "execution_count": 8,
   "id": "33193446-7edb-44e5-9cec-337efaf97860",
   "metadata": {},
   "outputs": [
    {
     "name": "stdout",
     "output_type": "stream",
     "text": [
      "hEllO wOrLd\n"
     ]
    }
   ],
   "source": [
    "print('HeLLo WoRlD'.swapcase())"
   ]
  },
  {
   "cell_type": "code",
   "execution_count": 9,
   "id": "bddc6cb1-38bd-4be6-a7bf-bacd7ffb11f4",
   "metadata": {},
   "outputs": [
    {
     "name": "stdout",
     "output_type": "stream",
     "text": [
      "3\n",
      "8\n",
      "-1\n",
      "4\n"
     ]
    },
    {
     "ename": "ValueError",
     "evalue": "substring not found",
     "output_type": "error",
     "traceback": [
      "\u001b[1;31m---------------------------------------------------------------------------\u001b[0m",
      "\u001b[1;31mValueError\u001b[0m                                Traceback (most recent call last)",
      "Cell \u001b[1;32mIn[9], line 5\u001b[0m\n\u001b[0;32m      3\u001b[0m \u001b[38;5;28mprint\u001b[39m(\u001b[38;5;124m'\u001b[39m\u001b[38;5;124mmy name is apurva\u001b[39m\u001b[38;5;124m'\u001b[39m\u001b[38;5;241m.\u001b[39mfind(\u001b[38;5;124m'\u001b[39m\u001b[38;5;124mx\u001b[39m\u001b[38;5;124m'\u001b[39m))\n\u001b[0;32m      4\u001b[0m \u001b[38;5;28mprint\u001b[39m(\u001b[38;5;124m'\u001b[39m\u001b[38;5;124mmy name is apurva\u001b[39m\u001b[38;5;124m'\u001b[39m\u001b[38;5;241m.\u001b[39mindex(\u001b[38;5;124m'\u001b[39m\u001b[38;5;124ma\u001b[39m\u001b[38;5;124m'\u001b[39m))\n\u001b[1;32m----> 5\u001b[0m \u001b[38;5;28mprint\u001b[39m(\u001b[38;5;124;43m'\u001b[39;49m\u001b[38;5;124;43mmy name is apurva\u001b[39;49m\u001b[38;5;124;43m'\u001b[39;49m\u001b[38;5;241;43m.\u001b[39;49m\u001b[43mindex\u001b[49m\u001b[43m(\u001b[49m\u001b[38;5;124;43m'\u001b[39;49m\u001b[38;5;124;43mx\u001b[39;49m\u001b[38;5;124;43m'\u001b[39;49m\u001b[43m)\u001b[49m)\n\u001b[0;32m      6\u001b[0m \u001b[38;5;28mprint\u001b[39m(\u001b[38;5;124m'\u001b[39m\u001b[38;5;124mmy name is apurva\u001b[39m\u001b[38;5;124m'\u001b[39m\u001b[38;5;241m.\u001b[39mendswith(\u001b[38;5;124m'\u001b[39m\u001b[38;5;124mva\u001b[39m\u001b[38;5;124m'\u001b[39m))\n\u001b[0;32m      7\u001b[0m \u001b[38;5;28mprint\u001b[39m(\u001b[38;5;124m'\u001b[39m\u001b[38;5;124mmy name is apurva\u001b[39m\u001b[38;5;124m'\u001b[39m\u001b[38;5;241m.\u001b[39mstartswith(\u001b[38;5;124m'\u001b[39m\u001b[38;5;124mmy\u001b[39m\u001b[38;5;124m'\u001b[39m))\n",
      "\u001b[1;31mValueError\u001b[0m: substring not found"
     ]
    }
   ],
   "source": [
    "print('my name is apurva'.count('a'))\n",
    "print('my name is apurva'.find('is'))\n",
    "print('my name is apurva'.find('x'))\n",
    "print('my name is apurva'.index('a'))\n",
    "print('my name is apurva'.index('x'))\n",
    "print('my name is apurva'.endswith('va'))\n",
    "print('my name is apurva'.startswith('my'))"
   ]
  },
  {
   "cell_type": "code",
   "execution_count": 10,
   "id": "b7ee7b9d-13ee-428a-9bfd-fd4c181962f3",
   "metadata": {},
   "outputs": [
    {
     "name": "stdout",
     "output_type": "stream",
     "text": [
      "Hi my name is apurva and I am a female\n",
      "Hi my name is apurva and I am a female\n"
     ]
    }
   ],
   "source": [
    "#Format Function\n",
    "\n",
    "name='apurva'\n",
    "gender='female'\n",
    "\n",
    "print('Hi my name is {} and I am a {}'.format(name, gender))\n",
    "print('Hi my name is {0} and I am a {1}'.format(name, gender))"
   ]
  },
  {
   "cell_type": "code",
   "execution_count": 11,
   "id": "3f5eb0c8-b25b-4b7f-b65b-8147473f8534",
   "metadata": {},
   "outputs": [
    {
     "name": "stdout",
     "output_type": "stream",
     "text": [
      "True\n",
      "False\n",
      "True\n",
      "False\n",
      "False\n",
      "['hi', 'my', 'name', 'is', 'apurva']\n",
      "['h', ' my name ', 's apurva']\n",
      "['hi my name ', ' apurva']\n"
     ]
    }
   ],
   "source": [
    "print('nitish1234'.isalnum())\n",
    "print('nitish1234%'.isalnum())\n",
    "print('nitish'.isalpha())\n",
    "print('123abc'.isdigit())\n",
    "print('1name'.isidentifier())\n",
    "print('hi my name is apurva'.split())\n",
    "print('hi my name is apurva'.split('i'))\n",
    "print('hi my name is apurva'.split('is'))"
   ]
  },
  {
   "cell_type": "code",
   "execution_count": 12,
   "id": "8ca572e4-8bae-43ef-8c1e-64ef9a16a46b",
   "metadata": {},
   "outputs": [
    {
     "data": {
      "text/plain": [
       "'hi-my-name-is-apurva'"
      ]
     },
     "execution_count": 12,
     "metadata": {},
     "output_type": "execute_result"
    }
   ],
   "source": [
    "\"-\".join(['hi', 'my', 'name', 'is', 'apurva'])"
   ]
  },
  {
   "cell_type": "code",
   "execution_count": 13,
   "id": "9103eb8c-0df5-42bc-aab2-9b7deedb62f2",
   "metadata": {},
   "outputs": [
    {
     "name": "stdout",
     "output_type": "stream",
     "text": [
      "hi my name is campusx\n",
      "apurva\n"
     ]
    }
   ],
   "source": [
    "print('hi my name is apurva'.replace('apurva', 'campusx'))\n",
    "print('apurva           '.strip())\n",
    "#in case of java , its trim()\n"
   ]
  },
  {
   "cell_type": "code",
   "execution_count": null,
   "id": "d8e2a401-54e7-42ea-808a-c16d315dec60",
   "metadata": {},
   "outputs": [],
   "source": []
  }
 ],
 "metadata": {
  "kernelspec": {
   "display_name": "Python 3 (ipykernel)",
   "language": "python",
   "name": "python3"
  },
  "language_info": {
   "codemirror_mode": {
    "name": "ipython",
    "version": 3
   },
   "file_extension": ".py",
   "mimetype": "text/x-python",
   "name": "python",
   "nbconvert_exporter": "python",
   "pygments_lexer": "ipython3",
   "version": "3.11.7"
  }
 },
 "nbformat": 4,
 "nbformat_minor": 5
}
