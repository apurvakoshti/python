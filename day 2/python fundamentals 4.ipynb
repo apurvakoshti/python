{
 "cells": [
  {
   "cell_type": "code",
   "execution_count": 1,
   "id": "ffb6b74f-dc4c-4e4b-a8cf-c36a65f3eb57",
   "metadata": {},
   "outputs": [],
   "source": [
    "#String Questions"
   ]
  },
  {
   "cell_type": "code",
   "execution_count": 2,
   "id": "00dc83d7-c965-4321-8dc6-034da2a29a90",
   "metadata": {},
   "outputs": [
    {
     "name": "stdin",
     "output_type": "stream",
     "text": [
      "Enter the string:  apurva\n"
     ]
    },
    {
     "name": "stdout",
     "output_type": "stream",
     "text": [
      "6\n"
     ]
    }
   ],
   "source": [
    "# 1.Find the length of the string without using the 'len' in built function\n",
    "\n",
    "s= input(\"Enter the string: \")\n",
    "\n",
    "counter =0\n",
    "\n",
    "for i in s:\n",
    "    counter += 1\n",
    "\n",
    "print(counter)"
   ]
  },
  {
   "cell_type": "code",
   "execution_count": 5,
   "id": "1b7eb7d1-9b0b-4fd9-8e13-d4afb6599963",
   "metadata": {},
   "outputs": [
    {
     "name": "stdin",
     "output_type": "stream",
     "text": [
      "Enter the email:  apurvakoshti8@gmail.com\n"
     ]
    },
    {
     "name": "stdout",
     "output_type": "stream",
     "text": [
      "apurvakoshti8\n"
     ]
    }
   ],
   "source": [
    "# 2. Extract the username from the given mail of user\n",
    "\n",
    "s= input(\"Enter the email: \")\n",
    "\n",
    "pos= s.index('@')\n",
    "\n",
    "print(s[0:pos])"
   ]
  },
  {
   "cell_type": "code",
   "execution_count": 8,
   "id": "ca1f25ac-126a-4559-a24f-c51ae51e0640",
   "metadata": {},
   "outputs": [
    {
     "name": "stdin",
     "output_type": "stream",
     "text": [
      "Enter the string:  apurva\n",
      "Enter the character:  a\n"
     ]
    },
    {
     "name": "stdout",
     "output_type": "stream",
     "text": [
      "2\n"
     ]
    }
   ],
   "source": [
    "# 3.Count the frequency of the character in the given string\n",
    "\n",
    "s= input(\"Enter the string: \")\n",
    "char= input(\"Enter the character: \")\n",
    "\n",
    "counter =0\n",
    "for i in s:\n",
    "    if i== char:\n",
    "        counter +=1\n",
    "\n",
    "\n",
    "print(counter)"
   ]
  },
  {
   "cell_type": "code",
   "execution_count": 2,
   "id": "b5920f8b-dc2a-42c8-a7d6-5a31206567f0",
   "metadata": {},
   "outputs": [
    {
     "name": "stdin",
     "output_type": "stream",
     "text": [
      "Enter the string:  apurva\n",
      "Enter the term:  a\n"
     ]
    },
    {
     "name": "stdout",
     "output_type": "stream",
     "text": [
      "purv\n"
     ]
    }
   ],
   "source": [
    "# Write a program to remove a particular character from the string\n",
    "\n",
    "s= input(\"Enter the string: \")\n",
    "term= input(\"Enter the term: \")\n",
    "\n",
    "result=''\n",
    "\n",
    "for i in s:\n",
    "    if i != term:\n",
    "        result +=i\n",
    "\n",
    "print(result)"
   ]
  },
  {
   "cell_type": "code",
   "execution_count": 10,
   "id": "83d8c18f-d7c8-426e-a69c-2e7958b3d19a",
   "metadata": {},
   "outputs": [
    {
     "name": "stdin",
     "output_type": "stream",
     "text": [
      "Enter the string:  madam\n"
     ]
    },
    {
     "name": "stdout",
     "output_type": "stream",
     "text": [
      "True\n"
     ]
    }
   ],
   "source": [
    "# write a program to check whether the string is palindrome or not\n",
    "\n",
    "s= input(\"Enter the string: \")\n",
    "\n",
    "for i in range (0,len(s)//2):\n",
    "    if s[i] != s[len(s)-1-i]:\n",
    "        print(False)\n",
    "        break\n",
    "    \n",
    "else:\n",
    "        print(True)"
   ]
  },
  {
   "cell_type": "code",
   "execution_count": 15,
   "id": "de23c031-b5cb-4f0c-a7c3-40f307b668a5",
   "metadata": {},
   "outputs": [
    {
     "name": "stdin",
     "output_type": "stream",
     "text": [
      "Enter the string:  hii how are you\n"
     ]
    },
    {
     "name": "stdout",
     "output_type": "stream",
     "text": [
      "['hii', 'how', 'are', 'you']\n",
      "4\n"
     ]
    }
   ],
   "source": [
    "# Program to count the number of words in a string without the split() function\n",
    "\n",
    "s= input(\"Enter the string: \")\n",
    "\n",
    "temp=''\n",
    "L=[]\n",
    "\n",
    "for i in s:\n",
    "    if i != ' ':\n",
    "        temp += i\n",
    "    else:\n",
    "        L.append(temp)\n",
    "        temp=''\n",
    "\n",
    "L.append(temp)\n",
    "print(L)\n",
    "print(len(L))"
   ]
  },
  {
   "cell_type": "code",
   "execution_count": 17,
   "id": "95d1876f-b63b-489d-b5e3-0bc13d1381e6",
   "metadata": {},
   "outputs": [
    {
     "name": "stdin",
     "output_type": "stream",
     "text": [
      "Enter the string:  hii how are you\n"
     ]
    },
    {
     "name": "stdout",
     "output_type": "stream",
     "text": [
      "['Hii', 'How', 'Are', 'You']\n",
      "Hii How Are You\n"
     ]
    }
   ],
   "source": [
    "# Program to convert the given string into title without using the title function()\n",
    "\n",
    "s= input(\"Enter the string: \")\n",
    "\n",
    "L= []\n",
    "\n",
    "for i in s.split():\n",
    "    L.append(i[0].upper()+ i[1:].lower())\n",
    "\n",
    "print(L)\n",
    "\n",
    "print(\" \".join(L))\n"
   ]
  },
  {
   "cell_type": "code",
   "execution_count": null,
   "id": "f9a9bd5f-c1da-4627-84c5-c58e9c19c01c",
   "metadata": {},
   "outputs": [],
   "source": []
  }
 ],
 "metadata": {
  "kernelspec": {
   "display_name": "Python 3 (ipykernel)",
   "language": "python",
   "name": "python3"
  },
  "language_info": {
   "codemirror_mode": {
    "name": "ipython",
    "version": 3
   },
   "file_extension": ".py",
   "mimetype": "text/x-python",
   "name": "python",
   "nbconvert_exporter": "python",
   "pygments_lexer": "ipython3",
   "version": "3.11.7"
  }
 },
 "nbformat": 4,
 "nbformat_minor": 5
}
